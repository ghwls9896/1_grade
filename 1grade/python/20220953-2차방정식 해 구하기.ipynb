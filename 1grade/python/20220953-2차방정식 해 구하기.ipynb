{
 "cells": [
  {
   "cell_type": "markdown",
   "id": "530c8d0a",
   "metadata": {},
   "source": [
    "# 2차방정식 해구하기, 20220953- 이호진 , 제출일 2022-04-13"
   ]
  },
  {
   "cell_type": "code",
   "execution_count": 1,
   "id": "cf6dd44b",
   "metadata": {},
   "outputs": [
    {
     "name": "stdout",
     "output_type": "stream",
     "text": [
      "2차방정식의 실수 해 계산 프로그램\n"
     ]
    }
   ],
   "source": [
    "print(\"2차방정식의 실수 해 계산 프로그램\")"
   ]
  },
  {
   "cell_type": "code",
   "execution_count": 2,
   "id": "60c78023",
   "metadata": {},
   "outputs": [
    {
     "name": "stdout",
     "output_type": "stream",
     "text": [
      "=========================================\n"
     ]
    }
   ],
   "source": [
    "print(\"=========================================\")"
   ]
  },
  {
   "cell_type": "code",
   "execution_count": 3,
   "id": "58eed397",
   "metadata": {},
   "outputs": [
    {
     "name": "stdout",
     "output_type": "stream",
     "text": [
      "x에 대한 2차 방정식 ax^2 + bx + c = 0에서 상수 a, b, c 값을 차례로 입력하세요 : 1,4, 4\n"
     ]
    }
   ],
   "source": [
    "a, b, c= input(\"x에 대한 2차 방정식 ax^2 + bx + c = 0에서 상수 a, b, c 값을 차례로 입력하세요 : \").split(',')"
   ]
  },
  {
   "cell_type": "code",
   "execution_count": 4,
   "id": "a3c61b00",
   "metadata": {
    "scrolled": true
   },
   "outputs": [
    {
     "name": "stdout",
     "output_type": "stream",
     "text": [
      "입력한 2차 방정식 :  x^2 +4x +4 = 0\n"
     ]
    }
   ],
   "source": [
    "a = int(a)\n",
    "b = int(b)               # input으로 받은 a, b, c 값을 모두 int화\n",
    "c = int(c)\n",
    "#==========================================================\n",
    "x2 = \"x^2\"              #ax^2를 만들때 a와 x 사이를 붙이기위해 문자열로 바꿈\n",
    "x = \"x\"                 # b=0일때 b와 x가 사라져야함으로 문자열로 바꿈\n",
    "blank = \"\"              #a=1 이거나 b=1일때 1x^2 이 아닌 x^2으로 바뀌어야함으로 문자열로 바꿈\n",
    "minus = \"-\"\n",
    "plus = \"+\"\n",
    "blank_0 = ' '          #b=0 이거나 c=0 일때 변수 blank와 겹치면 오류가 나서 b=0과 c=0일때 쓰는 공백으로 새로 만들어줌\n",
    "#============================================================\n",
    "if (b > 0):\n",
    "    mark_b = plus     #b가 0보다 클때 b앞에 부호가 +가 나와야함\n",
    "\n",
    "else:\n",
    "     mark_b = blank   #b가 음수일때는 이미 -가 붙어있음으로 b앞에 부호에 공백을 넣으면됨\n",
    "#============================================================\n",
    "if (c > 0):\n",
    "    mark_c = plus     #c가 0보다 클때 c앞에 부호가 +가 있어야함\n",
    "else:\n",
    "    mark_c = blank    #c가 음수일때는 이미 -가 붙어있음으로 c앞에 부호에 공백을 넣으면됨\n",
    "\n",
    "#============================================================\n",
    "if(a == 1):          #a = 1일때 x^2 으로 바꿔주어야함으로 a를 아무것도 없는 문자열로 바꿔줌\n",
    "    a = blank\n",
    "if(b == 1):          #b = 1일때 x 로 바꿔주어야함으로 b를 아무것도 없는 문자열로 바꿔줌\n",
    "    b = blank\n",
    "#============================================================    \n",
    "if(a == 0):\n",
    "    print(\"a에 0을 넣으면 2차방정식이 아닙니다\")\n",
    "    a = 0\n",
    "if(b == 0):\n",
    "    b = blank_0      #나중에 2차방정식으로 보여준후 다시 b = 0으로 바꿔주어야 나중에 근의 공식에 변수 b를 사용할 수 있음으로 변수 blank_0\n",
    "    x = blank        #b가 0일때 b에 뒤따라오는 x도 없애주어야함\n",
    "    mark_b = blank   #b가 0일때 b앞에 있는 부호도 없애주어야함\n",
    "if(c == 0):\n",
    "    c = blank_0      #나중에 2차방정식을 보여준뒤 다시 c =0으로 바꿔주어야 나중에 근의 공식에 변수 c를 사용할 수 있음으로 blank_0 \n",
    "    \n",
    "#============================================================\n",
    "if(a == -1):\n",
    "    a = minus\n",
    "if(b == -1):\n",
    "    b = minus\n",
    "#============================================================\n",
    "if (a != 0):              #a가 0일때 2차방정식이 아님으로 출력을 못하게 제한\n",
    "    print(\"입력한 2차 방정식 : \", str(a)+x2, str(mark_b)+str(b)+x, str(mark_c)+str(c)+\" = 0\")\n",
    "#============================================================\n",
    "\n",
    "#2차방정식을 출력한 뒤 임으로 변환시켰던 a,b,c값을 다시 원상복구 해준다\n",
    "\n",
    "if (a == blank):\n",
    "    a = 1\n",
    "if (b == blank):\n",
    "    b = 1\n",
    "\n",
    "if (b == blank_0):\n",
    "    b = 0\n",
    "if (c == blank_0):\n",
    "    c = 0\n",
    "\n",
    "if (a == minus):\n",
    "    a = -1\n",
    "if (b == minus):\n",
    "    b = -1\n"
   ]
  },
  {
   "cell_type": "code",
   "execution_count": 5,
   "id": "5f454d45",
   "metadata": {},
   "outputs": [
    {
     "name": "stdout",
     "output_type": "stream",
     "text": [
      "=========================================\n"
     ]
    }
   ],
   "source": [
    "print(\"=========================================\")"
   ]
  },
  {
   "cell_type": "code",
   "execution_count": 6,
   "id": "89aaa75b",
   "metadata": {},
   "outputs": [
    {
     "name": "stdout",
     "output_type": "stream",
     "text": [
      "1개의 실수 해가 존재합니다 : x =  -2.0\n"
     ]
    }
   ],
   "source": [
    "D = b**2-4*a*c\n",
    "root_1 = (-b + (b**2-4*a*c)**0.5)/(2*a)\n",
    "root_2 = (-b - (b**2-4*a*c)**0.5)/(2*a)\n",
    "if (D > 0):\n",
    "    print(\"2개의 실수 해가 존재합니다 : x = \",root_1,\", x = \",root_2,)\n",
    "elif (D == 0):\n",
    "    print(\"1개의 실수 해가 존재합니다 : x = \",root_1,)\n",
    "else:\n",
    "    print(\"실수가 존재하지 않습니다\")"
   ]
  },
  {
   "cell_type": "markdown",
   "id": "18cccd3b",
   "metadata": {},
   "source": [
    "### 코딩후기 : 판별식을 이용하여 실근 갯수를 판별하고 근의공식을 활용해 해를 구하는 것은 쉬웠지만, 2차방정식을 입력하여 출력할때 a, b, c 가 1, -1일때 1을 안보이게 하는 작업, a, b, c 부호에 따라 앞에 부호를 바꾸는 작업, 그리고 a가 0일때는 출력을 못하게하고, b, c가 0일때는 앞에 부호부터 뒤에 변수 x를 없애는 작업이 조금 어렵게 느껴졌습니다. 또 출력후 변형된 a, b, c를 원래 숫자 값으로 바꾸어주는 작업도 오래걸렸습니다."
   ]
  },
  {
   "cell_type": "code",
   "execution_count": null,
   "id": "5bc365c3",
   "metadata": {},
   "outputs": [],
   "source": []
  }
 ],
 "metadata": {
  "kernelspec": {
   "display_name": "Python 3 (ipykernel)",
   "language": "python",
   "name": "python3"
  },
  "language_info": {
   "codemirror_mode": {
    "name": "ipython",
    "version": 3
   },
   "file_extension": ".py",
   "mimetype": "text/x-python",
   "name": "python",
   "nbconvert_exporter": "python",
   "pygments_lexer": "ipython3",
   "version": "3.9.7"
  }
 },
 "nbformat": 4,
 "nbformat_minor": 5
}
