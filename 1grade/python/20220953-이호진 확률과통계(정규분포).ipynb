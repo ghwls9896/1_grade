{
 "cells": [
  {
   "cell_type": "code",
   "execution_count": 133,
   "id": "cca1f09f",
   "metadata": {},
   "outputs": [],
   "source": [
    "import numpy as np\n",
    "import scipy. stats as sp\n",
    "import matplotlib.pyplot as plt\n",
    "def main():\n",
    "    #1. X 의 확률 분포를 생성하는 코드를 작성하고, 이 학률 분포의 누적 분포 함수를 그려라. \n",
    "    print(\"*******************X 의 확률 분포를 생성하는 코드를 작성하고, 이 학률 분포의 누적 분포 함수를 그려라.  ****************************\")\n",
    "    n= 50\n",
    "    p =0.6\n",
    "    rv =sp.binom(n,p)\n",
    "\n",
    "    xx=np.arange(n+1)\n",
    "\n",
    "    plt.bar(xx,rv.cdf(xx))\n",
    "    plt.show()\n",
    "    print(\"\\n\\n\")\n",
    "    #2. X 의 확률 분포를 따르는 100개의 표본을 생성하고, 각 표본의 평균을 구하라. \n",
    "    print(\"*******************X 의 확률 분포를 따르는 100개의 표본을 생성하고, 각 표본의 평균을 구하라 ****************************\")\n",
    "    np.random.seed(0)\n",
    "    x = rv.rvs(100)\n",
    "    print(f\"표본 : {x}\", end = \" \")\n",
    "    print()\n",
    "    print(f\"평균 : {np.mean(x)}\")\n",
    "    print(\"\\n\\n\")\n",
    "    #3. X 의 값이 40이상일 확률을 구하라. \n",
    "    print(\"******************************************X 의 값이 40이상일 확률을 구하라. *******************************************\")\n",
    "    print(f\"x가 40보다 크게 나올 확률은?\\n{1-rv.cdf(40)}\")\n",
    "    print(\"\\n\\n\")\n",
    "\n",
    "    #4. (2)와 같이 표본 100개에 대한 표본 평균을 구하는 과정을 30회 반복한 후,  표본 평균에 대한 평균과 분산을 계산하라. \n",
    "    print(\"*******************(2)와 같이 표본 100개에 대한 표본 평균을 구하는 과정을 30회 반복한 후,  표본 평균에 대한 평균과 분산을 계산하라.****************************\")\n",
    "    y = []\n",
    "    for i in range(30):\n",
    "        np.random.seed(i)\n",
    "        x = rv.rvs(100)\n",
    "        y.append(np.mean(x))\n",
    "    print(y)\n",
    "    print(f\"표본 100개에 대한 표본 평균 : {np.mean(y)}\")\n",
    "    print(f\"표본 100개에 대한 분산 : {np.var(y)}\")\n",
    "    print(\"\\n\\n\") \n",
    "\n",
    "    #5. (4)에서 표본 평균이 따를 것으로 보이는 확률 분포에 대한 누적 분포 함수를 그려라.\n",
    "    print(\"******************************************(4)에서 표본 평균이 따를 것으로 보이는 확률 분포에 대한 누적 분포 함수를 그려라.*******************************************\")\n",
    "    mean = np.mean(y)\n",
    "    var = np.var(y)\n",
    "    rv = sp.norm(mean, var**0.5)\n",
    "    xx = np.arange(28.5, 31.5, 0.006)\n",
    "    plt.bar(xx,rv.cdf(xx))\n",
    "    plt.show()\n",
    "    #5. (4)에서 표본 평균이 40이상일 확률을 구하라. \n",
    "    print(\"******************************************(4)에서 표본 평균이 40이상일 확률을 구하라. *******************************************\")\n",
    "    print(f\"표본 평균이 40보다 크게 나올 확률은?\\n{1-rv.cdf(40)}\")"
   ]
  },
  {
   "cell_type": "code",
   "execution_count": 134,
   "id": "6110ad0d",
   "metadata": {},
   "outputs": [
    {
     "name": "stdout",
     "output_type": "stream",
     "text": [
      "*******************X 의 확률 분포를 생성하는 코드를 작성하고, 이 학률 분포의 누적 분포 함수를 그려라.  ****************************\n"
     ]
    },
    {
     "data": {
      "image/png": "[encoded data removed]",
      "text/plain": [
       "<Figure size 640x480 with 1 Axes>"
      ]
     },
     "metadata": {},
     "output_type": "display_data"
    },
    {
     "name": "stdout",
     "output_type": "stream",
     "text": [
      "\n",
      "\n",
      "\n",
      "*******************X 의 확률 분포를 따르는 100개의 표본을 생성하고, 각 표본의 평균을 구하라 ****************************\n",
      "표본 : [30 28 29 30 31 29 31 26 24 31 27 30 29 25 35 35 37 27 27 26 23 27 30 27\n",
      " 34 29 34 24 30 31 32 27 30 29 37 29 29 29 24 28 31 31 28 35 29 28 33 34\n",
      " 32 31 29 31 22 34 33 33 29 32 30 32 33 34 29 34 33 31 27 34 27 34 23 30\n",
      " 23 29 28 36 32 34 32 34 32 31 35 28 29 32 30 35 29 25 32 29 34 28 32 33\n",
      " 29 37 27 39] \n",
      "평균 : 30.3\n",
      "\n",
      "\n",
      "\n",
      "******************************************X 의 값이 40이상일 확률을 구하라. *******************************************\n",
      "x가 40보다 크게 나올 확률은?\n",
      "0.0007572965829096834\n",
      "\n",
      "\n",
      "\n",
      "*******************(2)와 같이 표본 100개에 대한 표본 평균을 구하는 과정을 30회 반복한 후,  표본 평균에 대한 평균과 분산을 계산하라.****************************\n",
      "[30.3, 30.27, 30.45, 30.23, 29.78, 30.14, 29.66, 29.86, 30.03, 30.23, 30.24, 30.02, 30.01, 30.29, 30.16, 30.63, 30.03, 29.92, 30.03, 29.92, 29.86, 29.83, 30.03, 30.27, 29.34, 30.18, 29.53, 29.45, 29.42, 29.87]\n",
      "표본 100개에 대한 표본 평균 : 29.99933333333333\n",
      "표본 100개에 대한 분산 : 0.09071955555555537\n",
      "\n",
      "\n",
      "\n",
      "******************************************(4)에서 표본 평균이 따를 것으로 보이는 확률 분포에 대한 누적 분포 함수를 그려라.*******************************************\n"
     ]
    },
    {
     "data": {
      "image/png": "[encoded data removed]",
      "text/plain": [
       "<Figure size 640x480 with 1 Axes>"
      ]
     },
     "metadata": {},
     "output_type": "display_data"
    },
    {
     "name": "stdout",
     "output_type": "stream",
     "text": [
      "******************************************(4)에서 표본 평균이 40이상일 확률을 구하라. *******************************************\n",
      "표본 평균이 40보다 크게 나올 확률은?\n",
      "0.0\n"
     ]
    }
   ],
   "source": [
    "if __name__ == '__main__':\n",
    "    main()  "
   ]
  },
  {
   "cell_type": "code",
   "execution_count": null,
   "id": "15f95d78",
   "metadata": {},
   "outputs": [],
   "source": []
  }
 ],
 "metadata": {
  "kernelspec": {
   "display_name": "Python 3 (ipykernel)",
   "language": "python",
   "name": "python3"
  },
  "language_info": {
   "codemirror_mode": {
    "name": "ipython",
    "version": 3
   },
   "file_extension": ".py",
   "mimetype": "text/x-python",
   "name": "python",
   "nbconvert_exporter": "python",
   "pygments_lexer": "ipython3",
   "version": "3.9.13"
  }
 },
 "nbformat": 4,
 "nbformat_minor": 5
}
