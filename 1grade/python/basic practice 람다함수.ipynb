{
 "cells": [
  {
   "cell_type": "code",
   "execution_count": 1,
   "id": "9b7b19d3",
   "metadata": {},
   "outputs": [],
   "source": [
    "grades =[{'name': 'Tom', 'score': 95},\n",
    "        {'name':'David', 'score': 92},\n",
    "        {'name':'Alex', 'score': 98}]"
   ]
  },
  {
   "cell_type": "code",
   "execution_count": 2,
   "id": "6e2a9c83",
   "metadata": {},
   "outputs": [
    {
     "data": {
      "text/plain": [
       "{'name': 'Tom', 'score': 95}"
      ]
     },
     "execution_count": 2,
     "metadata": {},
     "output_type": "execute_result"
    }
   ],
   "source": [
    "max(grades, key=lambda x:x['name'])"
   ]
  },
  {
   "cell_type": "code",
   "execution_count": 3,
   "id": "a9195f22",
   "metadata": {},
   "outputs": [
    {
     "data": {
      "text/plain": [
       "['1', '2', '3', '4', '5']"
      ]
     },
     "execution_count": 3,
     "metadata": {},
     "output_type": "execute_result"
    }
   ],
   "source": [
    "a = [1,2,3,4,5]\n",
    "list(map(lambda x:str(x),a))"
   ]
  },
  {
   "cell_type": "code",
   "execution_count": 4,
   "id": "06e175db",
   "metadata": {},
   "outputs": [
    {
     "data": {
      "text/plain": [
       "[5, 7, 9, 11, 13]"
      ]
     },
     "execution_count": 4,
     "metadata": {},
     "output_type": "execute_result"
    }
   ],
   "source": [
    "a = [1,2,3,4,5]\n",
    "b = [4,5,6,7,8]\n",
    "list(map(lambda x,y:x+y,a,b))"
   ]
  },
  {
   "cell_type": "code",
   "execution_count": 5,
   "id": "15a84288",
   "metadata": {},
   "outputs": [],
   "source": [
    "a = ['a', 'A','b','B', 'c', 'C']"
   ]
  },
  {
   "cell_type": "code",
   "execution_count": 6,
   "id": "9488432c",
   "metadata": {},
   "outputs": [
    {
     "data": {
      "text/plain": [
       "['A', 'a', 'B', 'b', 'C', 'c']"
      ]
     },
     "execution_count": 6,
     "metadata": {},
     "output_type": "execute_result"
    }
   ],
   "source": [
    "list(map(lambda x:x.upper()if x. islower()else x.lower(),a))"
   ]
  },
  {
   "cell_type": "code",
   "execution_count": 7,
   "id": "662e5456",
   "metadata": {},
   "outputs": [],
   "source": [
    "a = ['test', '1.2', 'temp', '3', '4']"
   ]
  },
  {
   "cell_type": "code",
   "execution_count": 8,
   "id": "08c97767",
   "metadata": {},
   "outputs": [],
   "source": [
    "c = list(map(lambda x:float(x),b))"
   ]
  },
  {
   "cell_type": "code",
   "execution_count": 9,
   "id": "33447550",
   "metadata": {},
   "outputs": [],
   "source": [
    "from functools import reduce\n",
    "d = reduce(lambda x,y:x+y, c)"
   ]
  },
  {
   "cell_type": "code",
   "execution_count": 10,
   "id": "e83e7044",
   "metadata": {},
   "outputs": [],
   "source": [
    "a = ['it','it','it','it','it']"
   ]
  },
  {
   "cell_type": "code",
   "execution_count": 11,
   "id": "9319239d",
   "metadata": {},
   "outputs": [],
   "source": [
    "c = list(map(lambda x:float(x),b))"
   ]
  },
  {
   "cell_type": "markdown",
   "id": "b566de3a",
   "metadata": {},
   "source": [
    "## 3. 이터레이터 연습"
   ]
  },
  {
   "cell_type": "code",
   "execution_count": 12,
   "id": "8380d2e7",
   "metadata": {},
   "outputs": [],
   "source": [
    "class Getitem:\n",
    "    def __init(self, itemlist):\n",
    "        self.current = 0\n",
    "        self.itemlist = itemlist\n",
    "        \n",
    "    def __iter__(self):\n",
    "        return self\n",
    "    \n",
    "    def __next__(self):\n",
    "        if self.current <= self():\n",
    "            r= self.current ** 2\n",
    "            self.current += 1\n",
    "            return r\n",
    "        else:\n",
    "            raise Stopiteration\n",
    "            "
   ]
  },
  {
   "cell_type": "code",
   "execution_count": 13,
   "id": "6e376092",
   "metadata": {},
   "outputs": [],
   "source": [
    "x = [1,2,3,4,5]"
   ]
  },
  {
   "cell_type": "code",
   "execution_count": 38,
   "id": "8dfbec6e",
   "metadata": {},
   "outputs": [
    {
     "ename": "TypeError",
     "evalue": "Getitem() takes no arguments",
     "output_type": "error",
     "traceback": [
      "\u001b[1;31m---------------------------------------------------------------------------\u001b[0m",
      "\u001b[1;31mTypeError\u001b[0m                                 Traceback (most recent call last)",
      "\u001b[1;32m~\\AppData\\Local\\Temp/ipykernel_23240/752771235.py\u001b[0m in \u001b[0;36m<module>\u001b[1;34m\u001b[0m\n\u001b[1;32m----> 1\u001b[1;33m \u001b[1;32mfor\u001b[0m \u001b[0mi\u001b[0m \u001b[1;32min\u001b[0m \u001b[0mGetitem\u001b[0m\u001b[1;33m(\u001b[0m\u001b[0mx\u001b[0m\u001b[1;33m)\u001b[0m\u001b[1;33m:\u001b[0m\u001b[1;33m\u001b[0m\u001b[1;33m\u001b[0m\u001b[0m\n\u001b[0m\u001b[0;32m      2\u001b[0m     \u001b[0mprint\u001b[0m\u001b[1;33m(\u001b[0m\u001b[0mi\u001b[0m\u001b[1;33m)\u001b[0m\u001b[1;33m\u001b[0m\u001b[1;33m\u001b[0m\u001b[0m\n",
      "\u001b[1;31mTypeError\u001b[0m: Getitem() takes no arguments"
     ]
    }
   ],
   "source": [
    "for i in Getitem(x):\n",
    "    print(i)"
   ]
  },
  {
   "cell_type": "code",
   "execution_count": null,
   "id": "f895d8ef",
   "metadata": {},
   "outputs": [],
   "source": []
  }
 ],
 "metadata": {
  "kernelspec": {
   "display_name": "Python 3 (ipykernel)",
   "language": "python",
   "name": "python3"
  },
  "language_info": {
   "codemirror_mode": {
    "name": "ipython",
    "version": 3
   },
   "file_extension": ".py",
   "mimetype": "text/x-python",
   "name": "python",
   "nbconvert_exporter": "python",
   "pygments_lexer": "ipython3",
   "version": "3.9.13"
  }
 },
 "nbformat": 4,
 "nbformat_minor": 5
}
