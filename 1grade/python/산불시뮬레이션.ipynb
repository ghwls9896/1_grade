{
 "cells": [
  {
   "cell_type": "markdown",
   "id": "4754d4c7",
   "metadata": {},
   "source": [
    "## 산불시뮬레이션"
   ]
  },
  {
   "cell_type": "markdown",
   "id": "2f9ca20c",
   "metadata": {},
   "source": [
    "#### (1) Bext, Random 테스트"
   ]
  },
  {
   "cell_type": "code",
   "execution_count": 83,
   "id": "e649c030",
   "metadata": {},
   "outputs": [],
   "source": [
    "import bext"
   ]
  },
  {
   "cell_type": "code",
   "execution_count": 84,
   "id": "6715e258",
   "metadata": {},
   "outputs": [],
   "source": [
    "import random"
   ]
  },
  {
   "cell_type": "markdown",
   "id": "0dc1432b",
   "metadata": {},
   "source": [
    "#### (2) 패키지 및 전역 변수 "
   ]
  },
  {
   "cell_type": "code",
   "execution_count": 85,
   "id": "17e5b952",
   "metadata": {},
   "outputs": [],
   "source": [
    "import random, time, sys, bext"
   ]
  },
  {
   "cell_type": "code",
   "execution_count": 86,
   "id": "c4716602",
   "metadata": {},
   "outputs": [],
   "source": [
    "WIDTH = 79\n",
    "HEIGHT = 22"
   ]
  },
  {
   "cell_type": "code",
   "execution_count": 87,
   "id": "1bb5ee1b",
   "metadata": {},
   "outputs": [],
   "source": [
    "TREE = 'A'\n",
    "FIRE = 'W'\n",
    "EMPTY = ' '"
   ]
  },
  {
   "cell_type": "code",
   "execution_count": 88,
   "id": "9f2074f9",
   "metadata": {},
   "outputs": [],
   "source": [
    "INITIAL_TREE_DENSITY = 0.20  \n",
    "GROW_CHANCE = 0.01  \n",
    "FIRE_CHANCE = 0.01  \n",
    "short_time = 0.005\n",
    "PAUSE_LENGTH = 0.5"
   ]
  },
  {
   "cell_type": "markdown",
   "id": "8fd47962",
   "metadata": {},
   "source": [
    "#### (3) 함수 설계"
   ]
  },
  {
   "cell_type": "code",
   "execution_count": 89,
   "id": "59861b02",
   "metadata": {},
   "outputs": [],
   "source": [
    "def create_new_forest():\n",
    "    # forest 공간 만들기\n",
    "    forest = {'width': WIDTH, 'height': HEIGHT}\n",
    "    \n",
    "    # 초기 나무 할당\n",
    "    for x in range(WIDTH):\n",
    "        for y in range(HEIGHT):\n",
    "            if random.random() <= INITIAL_TREE_DENSITY:\n",
    "                forest[(x,y)] = TREE\n",
    "            else:\n",
    "                forest[(x,y)] = EMPTY\n",
    "                \n",
    "    return forest"
   ]
  },
  {
   "cell_type": "code",
   "execution_count": 90,
   "id": "601385ed",
   "metadata": {},
   "outputs": [],
   "source": [
    "forest = create_new_forest()"
   ]
  },
  {
   "cell_type": "code",
   "execution_count": 91,
   "id": "e4a417b3",
   "metadata": {},
   "outputs": [],
   "source": [
    "def display_forest(forest):\n",
    "    # 화면 좌측상단으로 이동\n",
    "    bext.goto(0, 0)\n",
    "\n",
    "    # 화면 공간에 나무, 화재 표시\n",
    "    for y in range(forest['height']):\n",
    "        for x in range(forest['width']):\n",
    "            if forest[(x,y)] == TREE:\n",
    "                bext.fg('green')\n",
    "                print(TREE, end='')\n",
    "            elif forest[(x,y)] == FIRE:\n",
    "                bext.fg('red')\n",
    "                print(FIRE, end='')\n",
    "            else: #EMPTY\n",
    "                print(EMPTY, end='')\n",
    "        print()\n",
    "    \n",
    "    bext.fg('reset')\n",
    "    \n",
    "    # 안내정보 등 추가 표시\n",
    "    print(f'나무가 자랄 확률: {GROW_CHANCE * 100}%')\n",
    "    print(f'산불이 날 확률: {FIRE_CHANCE * 100}%')"
   ]
  },
  {
   "cell_type": "code",
   "execution_count": 92,
   "id": "5ec5be0d",
   "metadata": {},
   "outputs": [
    {
     "name": "stdout",
     "output_type": "stream",
     "text": [
      " A A A         A    A           A A AA A  A   A  A  AA    A    A   A         A \n",
      "    A A        A  A    A    A A  AA     A A    A        A   A        A     A   \n",
      "A A      AA  A            A AA A  AA   A A       A     A     A A A A  AA   AA  \n",
      "AA   A AA    A      A            AA  A    A   AAA  A   AAA      A      A       \n",
      "       A A A     A           A       AA  A  A     A    A AA  A      A    A     \n",
      "   A                 A  A A   AA AA                AAA    A A         AA A A   \n",
      "                A A   A  AA                A     A A              AA    A      \n",
      "AA     AA                   A          A    A       A        A    A       A    \n",
      "    A    A                       A     AA  AA      AA A AA    A     A A        \n",
      "A     A    A             A                A     AA A        A           A      \n",
      "   A        A         A              AA                     A     A A          \n",
      "A                  A     A    A     AAA    A    A  A           A A A   A       \n",
      "     A  A  AA    A        AA      A           A   A A    AA    A    A     A    \n",
      "        A     A A    A     AAA   A       A      A           A    A   A        A\n",
      " A     A        A A          AA       A    A A   A  A    A   A     AAA  A     A\n",
      "    A     A AA A A     A         A      A               A         A      A    A\n",
      "   A       A   A A   AA  AA        A     AA   AA  A A A A A A       AA   A     \n",
      "    A  A       A     A    A  A          AA     A  A      A      A      A       \n",
      "A           A   AA            A AA  A     AAA  A       A     A      A  A A     \n",
      "   A      A       A          A       AA  A        A A     A           A  A     \n",
      "    A A            A      AA  A A  A             A   AA   A  A   AA   AA     AA\n",
      "A      A       A   AA    AAA A   A     AAA   A A  A  A A        AA   A         \n",
      "나무가 자랄 확률: 1.0%\n",
      "산불이 날 확률: 1.0%\n"
     ]
    }
   ],
   "source": [
    "display_forest(forest)"
   ]
  },
  {
   "cell_type": "code",
   "execution_count": 93,
   "id": "81e7680a",
   "metadata": {},
   "outputs": [],
   "source": [
    "def main():\n",
    "    forest = create_new_forest\n",
    "    bext.clear()\n",
    "    \n",
    "    while True:\n",
    "        display_forest(forest)\n",
    "        next_forest = {'width' : forest['width'],\n",
    "                      'height' : forest['height']}\n",
    "        for x in range(forest['width']):\n",
    "            for y in range(forest['height']):\n",
    "                if (x, y) in (next_forest):\n",
    "                    continue\n",
    "                \n",
    "                if forest[(x,y)] == EMPTY:\n",
    "                    if random.random() <= INITIAL_TREE_DENSITY:\n",
    "                        forest[(x,y)] = TREE\n",
    "                    else:\n",
    "                        forest[(x,y)] = EMPTY\n",
    "                    \n",
    "                elif forest[(x,y)] == TREE:\n",
    "                    if random.random() <= FIRE_CHANCE:\n",
    "                        forest[(x,y)] = FIRE\n",
    "                    else:\n",
    "                        forest[(x,y)] = TREE\n",
    "                elif forest[(x,y)] == FIRE:\n",
    "                    for i in range(-1, 2):\n",
    "                        for j in range(-1, 2):\n",
    "                            if (0 <= x+i < forest['width'] and 0 <= y+j < forest['height']):\n",
    "                                if forest[(x+i,y+i)] == TREE:\n",
    "                                    next_forest[(x+i,y+i)] == FIRE\n",
    "                                \n",
    "                    next_forest[(x,y)] = EMPTY\n",
    "                \n",
    "        forest = next_forest\n",
    "        time.sleep(PAUSE_LENGTH)"
   ]
  },
  {
   "cell_type": "code",
   "execution_count": 94,
   "id": "995e0436",
   "metadata": {},
   "outputs": [
    {
     "ename": "TypeError",
     "evalue": "'function' object is not subscriptable",
     "output_type": "error",
     "traceback": [
      "\u001b[1;31m---------------------------------------------------------------------------\u001b[0m",
      "\u001b[1;31mTypeError\u001b[0m                                 Traceback (most recent call last)",
      "\u001b[1;32m~\\AppData\\Local\\Temp\\ipykernel_16688\\451043146.py\u001b[0m in \u001b[0;36m<module>\u001b[1;34m\u001b[0m\n\u001b[1;32m----> 1\u001b[1;33m \u001b[0mmain\u001b[0m\u001b[1;33m(\u001b[0m\u001b[1;33m)\u001b[0m\u001b[1;33m\u001b[0m\u001b[1;33m\u001b[0m\u001b[0m\n\u001b[0m",
      "\u001b[1;32m~\\AppData\\Local\\Temp\\ipykernel_16688\\4100998900.py\u001b[0m in \u001b[0;36mmain\u001b[1;34m()\u001b[0m\n\u001b[0;32m      4\u001b[0m \u001b[1;33m\u001b[0m\u001b[0m\n\u001b[0;32m      5\u001b[0m     \u001b[1;32mwhile\u001b[0m \u001b[1;32mTrue\u001b[0m\u001b[1;33m:\u001b[0m\u001b[1;33m\u001b[0m\u001b[1;33m\u001b[0m\u001b[0m\n\u001b[1;32m----> 6\u001b[1;33m         \u001b[0mdisplay_forest\u001b[0m\u001b[1;33m(\u001b[0m\u001b[0mforest\u001b[0m\u001b[1;33m)\u001b[0m\u001b[1;33m\u001b[0m\u001b[1;33m\u001b[0m\u001b[0m\n\u001b[0m\u001b[0;32m      7\u001b[0m         next_forest = {'width' : forest['width'],\n\u001b[0;32m      8\u001b[0m                       'height' : forest['height']}\n",
      "\u001b[1;32m~\\AppData\\Local\\Temp\\ipykernel_16688\\4256665156.py\u001b[0m in \u001b[0;36mdisplay_forest\u001b[1;34m(forest)\u001b[0m\n\u001b[0;32m      4\u001b[0m \u001b[1;33m\u001b[0m\u001b[0m\n\u001b[0;32m      5\u001b[0m     \u001b[1;31m# 화면 공간에 나무, 화재 표시\u001b[0m\u001b[1;33m\u001b[0m\u001b[1;33m\u001b[0m\u001b[0m\n\u001b[1;32m----> 6\u001b[1;33m     \u001b[1;32mfor\u001b[0m \u001b[0my\u001b[0m \u001b[1;32min\u001b[0m \u001b[0mrange\u001b[0m\u001b[1;33m(\u001b[0m\u001b[0mforest\u001b[0m\u001b[1;33m[\u001b[0m\u001b[1;34m'height'\u001b[0m\u001b[1;33m]\u001b[0m\u001b[1;33m)\u001b[0m\u001b[1;33m:\u001b[0m\u001b[1;33m\u001b[0m\u001b[1;33m\u001b[0m\u001b[0m\n\u001b[0m\u001b[0;32m      7\u001b[0m         \u001b[1;32mfor\u001b[0m \u001b[0mx\u001b[0m \u001b[1;32min\u001b[0m \u001b[0mrange\u001b[0m\u001b[1;33m(\u001b[0m\u001b[0mforest\u001b[0m\u001b[1;33m[\u001b[0m\u001b[1;34m'width'\u001b[0m\u001b[1;33m]\u001b[0m\u001b[1;33m)\u001b[0m\u001b[1;33m:\u001b[0m\u001b[1;33m\u001b[0m\u001b[1;33m\u001b[0m\u001b[0m\n\u001b[0;32m      8\u001b[0m             \u001b[1;32mif\u001b[0m \u001b[0mforest\u001b[0m\u001b[1;33m[\u001b[0m\u001b[1;33m(\u001b[0m\u001b[0mx\u001b[0m\u001b[1;33m,\u001b[0m\u001b[0my\u001b[0m\u001b[1;33m)\u001b[0m\u001b[1;33m]\u001b[0m \u001b[1;33m==\u001b[0m \u001b[0mTREE\u001b[0m\u001b[1;33m:\u001b[0m\u001b[1;33m\u001b[0m\u001b[1;33m\u001b[0m\u001b[0m\n",
      "\u001b[1;31mTypeError\u001b[0m: 'function' object is not subscriptable"
     ]
    }
   ],
   "source": [
    "main()"
   ]
  },
  {
   "cell_type": "code",
   "execution_count": null,
   "id": "ac414bed",
   "metadata": {},
   "outputs": [],
   "source": []
  }
 ],
 "metadata": {
  "kernelspec": {
   "display_name": "Python 3 (ipykernel)",
   "language": "python",
   "name": "python3"
  },
  "language_info": {
   "codemirror_mode": {
    "name": "ipython",
    "version": 3
   },
   "file_extension": ".py",
   "mimetype": "text/x-python",
   "name": "python",
   "nbconvert_exporter": "python",
   "pygments_lexer": "ipython3",
   "version": "3.9.13"
  }
 },
 "nbformat": 4,
 "nbformat_minor": 5
}
