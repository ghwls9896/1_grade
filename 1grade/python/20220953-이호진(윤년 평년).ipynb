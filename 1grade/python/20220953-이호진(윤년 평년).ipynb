{
 "cells": [
  {
   "cell_type": "markdown",
   "id": "2ca5141e",
   "metadata": {},
   "source": [
    "# 윤년"
   ]
  },
  {
   "cell_type": "code",
   "execution_count": 9,
   "id": "e415fbf4",
   "metadata": {},
   "outputs": [
    {
     "name": "stdout",
     "output_type": "stream",
     "text": [
      "년도을 입력하세요: 1200\n"
     ]
    }
   ],
   "source": [
    "year = int(input('년도을 입력하세요: '))"
   ]
  },
  {
   "cell_type": "code",
   "execution_count": 10,
   "id": "6d402f37",
   "metadata": {},
   "outputs": [
    {
     "name": "stdout",
     "output_type": "stream",
     "text": [
      "1200년은 윤년입니다\n"
     ]
    }
   ],
   "source": [
    "if year <= 0:\n",
    "    print('양의 정수를 입력하세요')\n",
    "else:\n",
    "    if year % 4 == 0:\n",
    "        if year % 100 == 0:\n",
    "            if year % 400 == 0:\n",
    "                print(str(year)+'년은 윤년입니다')\n",
    "            else:\n",
    "                print(str(year)+'년은 평년입니다')\n",
    "        else:\n",
    "            print(str(year)+\"년은 윤년입니다\")\n",
    "    else:\n",
    "        print(str(year)+'년은 평년입니다')\n",
    "        "
   ]
  },
  {
   "cell_type": "code",
   "execution_count": 12,
   "id": "98125e26",
   "metadata": {},
   "outputs": [
    {
     "name": "stdout",
     "output_type": "stream",
     "text": [
      "1200년은 윤년입니다\n"
     ]
    }
   ],
   "source": [
    "if year <= 0:\n",
    "    print('양의 정수를 입력하세요')\n",
    "elif year % 400 == 0:\n",
    "    print(str(year)+'년은 윤년입니다')\n",
    "elif year % 100 == 0:\n",
    "    print(str(year)+'년은 평년입니다')\n",
    "elif year % 4 == 0:\n",
    "    print(str(year)+'년은 윤년입니다')\n",
    "else:\n",
    "    print(str(year)+'년은 평년입니다')\n",
    "        "
   ]
  },
  {
   "cell_type": "code",
   "execution_count": null,
   "id": "317a389b",
   "metadata": {},
   "outputs": [],
   "source": []
  }
 ],
 "metadata": {
  "kernelspec": {
   "display_name": "Python 3 (ipykernel)",
   "language": "python",
   "name": "python3"
  },
  "language_info": {
   "codemirror_mode": {
    "name": "ipython",
    "version": 3
   },
   "file_extension": ".py",
   "mimetype": "text/x-python",
   "name": "python",
   "nbconvert_exporter": "python",
   "pygments_lexer": "ipython3",
   "version": "3.9.7"
  }
 },
 "nbformat": 4,
 "nbformat_minor": 5
}
