{
 "cells": [
  {
   "cell_type": "markdown",
   "id": "ac7f15f0",
   "metadata": {},
   "source": [
    "### 카드 기본 설정"
   ]
  },
  {
   "cell_type": "code",
   "execution_count": 1,
   "id": "6f21ed5b",
   "metadata": {},
   "outputs": [],
   "source": [
    "SUIT_TUPLE = (\"Clubs\", \"Diamonds\", \"Hearts\", \"Spades\")\n",
    "RANK_TUPLE = (\"Ace\", \"2\", \"3\", \"4\", \"5\", \"6\", \"7\", \"8\", \"9\", \"10\", \"Jack\", \"Queen\", \"King\")"
   ]
  },
  {
   "cell_type": "code",
   "execution_count": 2,
   "id": "66d14322",
   "metadata": {},
   "outputs": [],
   "source": [
    "def createDeck():\n",
    "    deck = []\n",
    "    for suit in SUIT_TUPLE:\n",
    "        for value, rank in enumerate(RANK_TUPLE):\n",
    "            card = {'suit': suit, 'rank': rank, 'value': value+1}\n",
    "            deck.append(card)\n",
    "            \n",
    "    return deck"
   ]
  },
  {
   "cell_type": "code",
   "execution_count": 3,
   "id": "46a44d43",
   "metadata": {},
   "outputs": [],
   "source": [
    "deckList = createDeck()"
   ]
  },
  {
   "cell_type": "code",
   "execution_count": 4,
   "id": "9cef61f2",
   "metadata": {},
   "outputs": [],
   "source": [
    "import random\n",
    "\n",
    "def shuffleCards(deck):\n",
    "    random.shuffle(deck)\n",
    "    return deck"
   ]
  },
  {
   "cell_type": "code",
   "execution_count": 5,
   "id": "269d3a95",
   "metadata": {},
   "outputs": [],
   "source": [
    "deckList = shuffleCards(deckList)"
   ]
  },
  {
   "cell_type": "code",
   "execution_count": 6,
   "id": "d23d8423",
   "metadata": {},
   "outputs": [],
   "source": [
    "def getCard(deck, num=None):\n",
    "    if num is None:\n",
    "        card = deck.pop()\n",
    "    else:\n",
    "        card = deck.pop(num)\n",
    "    return card"
   ]
  },
  {
   "cell_type": "code",
   "execution_count": 7,
   "id": "030d3b10",
   "metadata": {},
   "outputs": [],
   "source": [
    "def getCards(deck, numCards):\n",
    "    cardList = deck[-numCards:]\n",
    "    # cardList.reverse()\n",
    "    return cardList"
   ]
  },
  {
   "cell_type": "code",
   "execution_count": 8,
   "id": "fc92c007",
   "metadata": {},
   "outputs": [],
   "source": [
    "cardList = getCards(deckList, 5)"
   ]
  },
  {
   "cell_type": "code",
   "execution_count": 9,
   "id": "608991f1",
   "metadata": {},
   "outputs": [
    {
     "data": {
      "text/plain": [
       "[{'suit': 'Spades', 'rank': '10', 'value': 10},\n",
       " {'suit': 'Spades', 'rank': '4', 'value': 4},\n",
       " {'suit': 'Hearts', 'rank': '6', 'value': 6},\n",
       " {'suit': 'Hearts', 'rank': 'Jack', 'value': 11},\n",
       " {'suit': 'Clubs', 'rank': 'Ace', 'value': 1}]"
      ]
     },
     "execution_count": 9,
     "metadata": {},
     "output_type": "execute_result"
    }
   ],
   "source": [
    "cardList"
   ]
  },
  {
   "cell_type": "markdown",
   "id": "4e7aaced",
   "metadata": {},
   "source": [
    "### sortCards() 구현"
   ]
  },
  {
   "cell_type": "code",
   "execution_count": 15,
   "id": "ec718703",
   "metadata": {},
   "outputs": [],
   "source": [
    "from operator import itemgetter\n",
    "\n",
    "def sortCards(cards):\n",
    "    cards.sort(key=itemgetter('value'), reverse=True)\n",
    "    return cards"
   ]
  },
  {
   "cell_type": "code",
   "execution_count": 16,
   "id": "a1f0e744",
   "metadata": {},
   "outputs": [],
   "source": [
    "cardList = sortCards(cardList)"
   ]
  },
  {
   "cell_type": "code",
   "execution_count": 17,
   "id": "ea5b16e9",
   "metadata": {},
   "outputs": [
    {
     "data": {
      "text/plain": [
       "[{'suit': 'Hearts', 'rank': 'Jack', 'value': 11},\n",
       " {'suit': 'Spades', 'rank': '10', 'value': 10},\n",
       " {'suit': 'Hearts', 'rank': '6', 'value': 6},\n",
       " {'suit': 'Spades', 'rank': '4', 'value': 4},\n",
       " {'suit': 'Clubs', 'rank': 'Ace', 'value': 1}]"
      ]
     },
     "execution_count": 17,
     "metadata": {},
     "output_type": "execute_result"
    }
   ],
   "source": [
    "cardList"
   ]
  },
  {
   "cell_type": "markdown",
   "id": "6b428b24",
   "metadata": {},
   "source": [
    "### IsFlush() 함수 구현"
   ]
  },
  {
   "cell_type": "code",
   "execution_count": 156,
   "id": "d5b57d7f",
   "metadata": {},
   "outputs": [],
   "source": [
    "def isFlush(cards):\n",
    "    \n",
    "    cards = sortCards(cards)\n",
    "    \n",
    "    suit = cards[0]['suit']\n",
    "    isFlush = True\n",
    "    \n",
    "    for card in cards:\n",
    "        if card['suit'] != suit:\n",
    "            isFlush = False\n",
    "            break\n",
    "            \n",
    "    if isFlush:\n",
    "        return cards[0]['value']\n",
    "    else:\n",
    "        return None"
   ]
  },
  {
   "cell_type": "code",
   "execution_count": 157,
   "id": "2285777e",
   "metadata": {},
   "outputs": [
    {
     "ename": "NameError",
     "evalue": "name 'cardList' is not defined",
     "output_type": "error",
     "traceback": [
      "\u001b[1;31m---------------------------------------------------------------------------\u001b[0m",
      "\u001b[1;31mNameError\u001b[0m                                 Traceback (most recent call last)",
      "\u001b[1;32m~\\AppData\\Local\\Temp/ipykernel_20060/4169927084.py\u001b[0m in \u001b[0;36m<module>\u001b[1;34m\u001b[0m\n\u001b[1;32m----> 1\u001b[1;33m \u001b[0misFlush\u001b[0m\u001b[1;33m(\u001b[0m\u001b[0mcardList\u001b[0m\u001b[1;33m)\u001b[0m\u001b[1;33m\u001b[0m\u001b[1;33m\u001b[0m\u001b[0m\n\u001b[0m",
      "\u001b[1;31mNameError\u001b[0m: name 'cardList' is not defined"
     ]
    }
   ],
   "source": [
    "isFlush(cardList)"
   ]
  },
  {
   "cell_type": "code",
   "execution_count": 217,
   "id": "fc811cf5",
   "metadata": {},
   "outputs": [],
   "source": [
    "import copy\n",
    "cards = [{'suit': 'Hearts', 'rank': 'Jack', 'value': 11,'value_s': 1},\n",
    "{'suit': 'Hearts', 'rank': '10', 'value': 10, 'value_s': 2},\n",
    "{'suit': 'Hearts', 'rank': '6', 'value': 6, 'value_s': 3},\n",
    "{'suit': 'Hearts', 'rank': '4', 'value': 4, 'value_s': 4},\n",
    "{'suit': 'Hearts', 'rank': 'Ace', 'value': 1, 'value_s': 4}]\n",
    "sign_cards = copy.deepcopy(cards)"
   ]
  },
  {
   "cell_type": "code",
   "execution_count": 226,
   "id": "ae768f5b",
   "metadata": {},
   "outputs": [
    {
     "name": "stdout",
     "output_type": "stream",
     "text": [
      "Hearts 4  \n",
      "Hearts Ace  \n",
      "Hearts 6  \n",
      "Hearts 10  \n",
      "Hearts Jack  \n"
     ]
    }
   ],
   "source": [
    "sign_cards = copy.deepcopy(cards)\n",
    "for i in range (len(sign_cards)):\n",
    "    sign_cards[i].pop('value')\n",
    "    sign_cards[i].pop('value_s')\n",
    "    for v in sign_cards[i].values():\n",
    "        print(v, end=\" \")\n",
    "    print(' ')"
   ]
  },
  {
   "cell_type": "code",
   "execution_count": 227,
   "id": "3414bf1a",
   "metadata": {},
   "outputs": [
    {
     "data": {
      "text/plain": [
       "[{'suit': 'Hearts', 'rank': '4', 'value': 4, 'value_s': 4},\n",
       " {'suit': 'Hearts', 'rank': 'Ace', 'value': 1, 'value_s': 4},\n",
       " {'suit': 'Hearts', 'rank': '6', 'value': 6, 'value_s': 3},\n",
       " {'suit': 'Hearts', 'rank': '10', 'value': 10, 'value_s': 2},\n",
       " {'suit': 'Hearts', 'rank': 'Jack', 'value': 11, 'value_s': 1}]"
      ]
     },
     "execution_count": 227,
     "metadata": {},
     "output_type": "execute_result"
    }
   ],
   "source": [
    "cards"
   ]
  },
  {
   "cell_type": "code",
   "execution_count": 220,
   "id": "99d1c3ed",
   "metadata": {},
   "outputs": [
    {
     "data": {
      "text/plain": [
       "[{'suit': 'Hearts', 'rank': 'Jack'},\n",
       " {'suit': 'Hearts', 'rank': '10'},\n",
       " {'suit': 'Hearts', 'rank': '6'},\n",
       " {'suit': 'Hearts', 'rank': '4'},\n",
       " {'suit': 'Hearts', 'rank': 'Ace'}]"
      ]
     },
     "execution_count": 220,
     "metadata": {},
     "output_type": "execute_result"
    }
   ],
   "source": [
    "sign_cards"
   ]
  },
  {
   "cell_type": "code",
   "execution_count": 221,
   "id": "44d6de67",
   "metadata": {},
   "outputs": [],
   "source": [
    "import random\n",
    "import time\n",
    "import copy\n",
    "from operator import itemgetter\n",
    "NCARDS = 8\n",
    "INIT_SCORE = 100\n",
    "SUIT_TUPLE = ('Clubs', 'Hearts', 'Diamonds', 'Spades') # 값이 큰 순서대로 배치\n",
    "RANK_TUPLE = ('Ace', '2', '3', '4', '5', '6', '7', '8', '9', '10', 'Jack', 'Queen', 'King')\n",
    "deck = []\n",
    "for suit in SUIT_TUPLE:\n",
    "        for value, rank in enumerate(RANK_TUPLE):\n",
    "            for value_s ,suit in enumerate(SUIT_TUPLE):\n",
    "                card = {'suit': suit, 'rank': rank, 'value': value+1, 'value_s' : value_s+1}\n",
    "                deck.append(card)\n",
    "            \n",
    "def sortCards_s(cards):\n",
    "    cards.sort(key=itemgetter('value_s'), reverse=True)\n",
    "    return cards"
   ]
  },
  {
   "cell_type": "code",
   "execution_count": 243,
   "id": "27abe771",
   "metadata": {},
   "outputs": [
    {
     "data": {
      "text/plain": [
       "[{'suit': 'Hearts', 'rank': 'Jack', 'value': 11, 'value_s': 1},\n",
       " {'suit': 'Hearts', 'rank': '10', 'value': 10, 'value_s': 2},\n",
       " {'suit': 'Hearts', 'rank': '6', 'value': 6, 'value_s': 3},\n",
       " {'suit': 'Hearts', 'rank': '4', 'value': 4, 'value_s': 4},\n",
       " {'suit': 'Hearts', 'rank': 'Ace', 'value': 1, 'value_s': 4}]"
      ]
     },
     "execution_count": 243,
     "metadata": {},
     "output_type": "execute_result"
    }
   ],
   "source": [
    "cards"
   ]
  },
  {
   "cell_type": "code",
   "execution_count": 242,
   "id": "7e9befb9",
   "metadata": {},
   "outputs": [],
   "source": [
    "cards.sort(key=itemgetter('value'),reverse=True)"
   ]
  },
  {
   "cell_type": "code",
   "execution_count": null,
   "id": "03ae7cd2",
   "metadata": {},
   "outputs": [],
   "source": []
  }
 ],
 "metadata": {
  "kernelspec": {
   "display_name": "Python 3 (ipykernel)",
   "language": "python",
   "name": "python3"
  },
  "language_info": {
   "codemirror_mode": {
    "name": "ipython",
    "version": 3
   },
   "file_extension": ".py",
   "mimetype": "text/x-python",
   "name": "python",
   "nbconvert_exporter": "python",
   "pygments_lexer": "ipython3",
   "version": "3.9.7"
  }
 },
 "nbformat": 4,
 "nbformat_minor": 5
}
