{
 "cells": [
  {
   "cell_type": "code",
   "execution_count": 1,
   "id": "15f0ff21",
   "metadata": {},
   "outputs": [
    {
     "ename": "SyntaxError",
     "evalue": "invalid syntax (2043549609.py, line 74)",
     "output_type": "error",
     "traceback": [
      "\u001b[1;36m  File \u001b[1;32m\"C:\\Users\\slave-std\\AppData\\Local\\Temp\\ipykernel_6992\\2043549609.py\"\u001b[1;36m, line \u001b[1;32m74\u001b[0m\n\u001b[1;33m    print(result)7\u001b[0m\n\u001b[1;37m                 ^\u001b[0m\n\u001b[1;31mSyntaxError\u001b[0m\u001b[1;31m:\u001b[0m invalid syntax\n"
     ]
    }
   ],
   "source": [
    "import random\n",
    "#from until import header\n",
    "\n",
    "MAX_GUESSES = 10\n",
    "NUM_DIGITS = 3\n",
    "\n",
    "numlist = list('0123456789')\n",
    "\n",
    "random.shuffle(numlist)\n",
    "numlist\n",
    "\n",
    "def getSecretNum():\n",
    "    \n",
    "    numlist = list('0123456789')\n",
    "    random.shuffle(numlist)\n",
    "    \n",
    "    secretnum = ''\n",
    "    for i in range(NUM_DIGITS):\n",
    "        secretnum += str(numlist[i])\n",
    "        \n",
    "    return secretnum\n",
    "\n",
    "def getGuessNum():\n",
    "    \n",
    "    while True:\n",
    "        rightnum = True\n",
    "        getnum = input(\">>> \"+str(NUM_DIGITS)+\"자리 추측 숫자를 입력하세요: \")\n",
    "        \n",
    "        if len(getnum) != NUM_DIGITS:\n",
    "            print(\">>> [ERROR] 자리수가 \"+str(NUM_DIGITS)+\"이 아닙니다.\")\n",
    "            rightnum = False\n",
    "            \n",
    "        if not set(getnum) <= set(\"0123456789\"):\n",
    "            print(\">>> [ERROR] 숫자가 아닌 문자가 있습니다.\")\n",
    "            rightnum = False\n",
    "        \n",
    "        if rightnum:\n",
    "            break\n",
    "\n",
    "    return getnum\n",
    "    \n",
    "\n",
    "def getGuessResult(secret, guess):\n",
    "    \n",
    "    pico = 0\n",
    "    fermi = 0\n",
    "    \n",
    "    if secret == guess:\n",
    "        result = \"Bingo!\"\n",
    "    elif set(secret) & set(guess) == set():\n",
    "        result = \"Bagles\"\n",
    "    else:\n",
    "        result = \" \"\n",
    "        for i in range(len(guess)):\n",
    "            if guess [i] ==  secret[i]:\n",
    "                fermi += 1\n",
    "            elif guess[i] in secret: \n",
    "                pico += 1\n",
    "        for i in range(pico):\n",
    "            result += \"Pico\"\n",
    "        for i in range(fermi):\n",
    "            result += \"Fermi\"\n",
    "    return result\n",
    "\n",
    "def main():\n",
    "    #header.print_header(\"\"\"\"\"\"\"\")\n",
    "    print(f\"\\n>>>v 총 {MAX_GUESSES}번의 기회가 주어집니다.\")\n",
    "    secretnum = getGuessNum()\n",
    "    \n",
    "    for i in range(MAX_GUESSES):\n",
    "        guessnum = getGuessNum()\n",
    "        \n",
    "        result = getGuessResult(secretnum, guessnum)\n",
    "        print(result)7\n",
    "        \n",
    "        if result == \"Bingo!\":\n",
    "            print(\"축하합니다! 프로그램을 마칩니다.\")\n",
    "            break\n",
    "        else:\n",
    "            if i < (MAX_GUESSES-1):\n",
    "                print(f\">>> 이제 {MAX_GUESSES-i-1}번의 기회가 남았습니다.\")\n",
    "            else:\n",
    "                print(f\">>> 아쉽네요. 정답은 {secretnum}입니다.\")"
   ]
  },
  {
   "cell_type": "code",
   "execution_count": 7,
   "id": "db192dc0",
   "metadata": {},
   "outputs": [
    {
     "name": "stdout",
     "output_type": "stream",
     "text": [
      "\n",
      ">>>v 총 10번의 기회가 주어집니다.\n",
      ">>> 3자리 추측 숫자를 입력하세요: 400\n",
      ">>> 3자리 추측 숫자를 입력하세요: 100\n",
      " FermiFermi\n",
      ">>> 이제 9번의 기회가 남았습니다.\n",
      ">>> 3자리 추측 숫자를 입력하세요: 200\n",
      " FermiFermi\n",
      ">>> 이제 8번의 기회가 남았습니다.\n",
      ">>> 3자리 추측 숫자를 입력하세요: 700\n",
      " FermiFermi\n",
      ">>> 이제 7번의 기회가 남았습니다.\n",
      ">>> 3자리 추측 숫자를 입력하세요: 900\n",
      " FermiFermi\n",
      ">>> 이제 6번의 기회가 남았습니다.\n",
      ">>> 3자리 추측 숫자를 입력하세요: 300\n",
      " FermiFermi\n",
      ">>> 이제 5번의 기회가 남았습니다.\n",
      ">>> 3자리 추측 숫자를 입력하세요: 400\n",
      "Bingo!\n",
      "축하합니다! 프로그램을 마칩니다.\n"
     ]
    }
   ],
   "source": [
    "if __name__ == '__main__':\n",
    "    main()"
   ]
  },
  {
   "cell_type": "code",
   "execution_count": null,
   "id": "7e9a44a5",
   "metadata": {},
   "outputs": [],
   "source": []
  }
 ],
 "metadata": {
  "kernelspec": {
   "display_name": "Python 3 (ipykernel)",
   "language": "python",
   "name": "python3"
  },
  "language_info": {
   "codemirror_mode": {
    "name": "ipython",
    "version": 3
   },
   "file_extension": ".py",
   "mimetype": "text/x-python",
   "name": "python",
   "nbconvert_exporter": "python",
   "pygments_lexer": "ipython3",
   "version": "3.9.13"
  }
 },
 "nbformat": 4,
 "nbformat_minor": 5
}
