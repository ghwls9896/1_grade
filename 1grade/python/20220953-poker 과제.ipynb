{
 "cells": [
  {
   "cell_type": "code",
   "execution_count": 7,
   "id": "4bd69822",
   "metadata": {},
   "outputs": [],
   "source": [
    "from util import poker_game\n",
    "import time\n",
    "def main():\n",
    "    score = int(input(\"게임을 시작하시려면 게임을 시작할 점수를 입력해주세요 : \"))\n",
    "    sum_score = score\n",
    "    sum_deal_score = score\n",
    "    dealscore = score\n",
    "    count = int(input(\"게임을 진행할 횟수를 입력해주세요 : \"))\n",
    "    print(f\"스코어 {score}점부터 시작합니다.\")\n",
    "    for i in range (count):\n",
    "        game = poker_game.game_poker()\n",
    "        score_1 = game[0]\n",
    "        score_2 = game[1]\n",
    "        sum_score += score_1\n",
    "        sum_deal_score += score_2\n",
    "        time.sleep(1)\n",
    "        print(f\">>>당신의 점수{sum_score}\")\n",
    "        print(f\">>>딜러의 점수{sum_deal_score}\")\n",
    "        \n",
    "    print(f\"당신의 최종점수{sum_score}점!\")\n",
    "    time.sleep(1)\n",
    "    print(f\"딜러의 최종점수{sum_deal_score}점!\")\n",
    "    if(sum_score > sum_deal_score):\n",
    "        print(\"축하합니다! 당신의 승리입니다.\")\n",
    "    elif(sum_score < sum_deal_score):\n",
    "        print(\"아쉽네요.. 딜러의 승리입니다.\")\n",
    "    else:\n",
    "        print(\"점수가 똑같네요! 무승부입니다.\")"
   ]
  },
  {
   "cell_type": "code",
   "execution_count": null,
   "id": "c74744c2",
   "metadata": {},
   "outputs": [
    {
     "name": "stdout",
     "output_type": "stream",
     "text": [
      "게임을 시작하시려면 게임을 시작할 점수를 입력해주세요 : 300\n"
     ]
    }
   ],
   "source": [
    "if __name__ == '__main__':\n",
    "    main()  "
   ]
  },
  {
   "cell_type": "code",
   "execution_count": null,
   "id": "8f959311",
   "metadata": {},
   "outputs": [],
   "source": []
  }
 ],
 "metadata": {
  "kernelspec": {
   "display_name": "Python 3 (ipykernel)",
   "language": "python",
   "name": "python3"
  },
  "language_info": {
   "codemirror_mode": {
    "name": "ipython",
    "version": 3
   },
   "file_extension": ".py",
   "mimetype": "text/x-python",
   "name": "python",
   "nbconvert_exporter": "python",
   "pygments_lexer": "ipython3",
   "version": "3.9.13"
  }
 },
 "nbformat": 4,
 "nbformat_minor": 5
}
