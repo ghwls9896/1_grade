{
 "cells": [
  {
   "cell_type": "code",
   "execution_count": 15,
   "id": "6ca1b69b",
   "metadata": {},
   "outputs": [],
   "source": [
    "NCARDS = 8\n",
    "INIT_SCORE = 50\n",
    "SUIT_TUPLE = (\"Clubs\",\"Diamonds\",\"Hears\",\"Spades\")\n",
    "RANK_TUPLE = (\"ACE\",\"2\",\"3\", \"4\", \"5\", \"6\", \"7\", \"8\", \"9\",\"10\",\"Jack\",\"Queen\",\"king\")\n",
    "card1 = {'rank': 'Jack', 'suit': 'Spades', 'value': 11}\n",
    "card2 = {'rank': '5', 'suit': 'Clubs', 'value': 5}\n",
    "cardList = [card1, card2]"
   ]
  },
  {
   "cell_type": "markdown",
   "id": "d02268a6",
   "metadata": {},
   "source": [
    "### 3. 함수 설계"
   ]
  },
  {
   "cell_type": "code",
   "execution_count": 16,
   "id": "88bec8e2",
   "metadata": {},
   "outputs": [],
   "source": [
    "def createDeck():\n",
    "    deck = []\n",
    "    for suit in SUIT_TUPLE:\n",
    "        for value, rank in enumerate(RANK_TUPLE):\n",
    "            card = {'suit': suit, 'rank': rank, 'value': value+1}\n",
    "            deck.append(card)\n",
    "            \n",
    "    return deck"
   ]
  },
  {
   "cell_type": "code",
   "execution_count": 17,
   "id": "af5d35ab",
   "metadata": {},
   "outputs": [],
   "source": [
    "deckList = createDeck()"
   ]
  },
  {
   "cell_type": "code",
   "execution_count": 18,
   "id": "189cfe8b",
   "metadata": {},
   "outputs": [
    {
     "data": {
      "text/plain": [
       "[{'suit': 'Clubs', 'rank': 'ACE', 'value': 1},\n",
       " {'suit': 'Clubs', 'rank': '2', 'value': 2},\n",
       " {'suit': 'Clubs', 'rank': '3', 'value': 3},\n",
       " {'suit': 'Clubs', 'rank': '4', 'value': 4},\n",
       " {'suit': 'Clubs', 'rank': '5', 'value': 5},\n",
       " {'suit': 'Clubs', 'rank': '6', 'value': 6},\n",
       " {'suit': 'Clubs', 'rank': '7', 'value': 7},\n",
       " {'suit': 'Clubs', 'rank': '8', 'value': 8},\n",
       " {'suit': 'Clubs', 'rank': '9', 'value': 9},\n",
       " {'suit': 'Clubs', 'rank': '10', 'value': 10},\n",
       " {'suit': 'Clubs', 'rank': 'Jack', 'value': 11},\n",
       " {'suit': 'Clubs', 'rank': 'Queen', 'value': 12},\n",
       " {'suit': 'Clubs', 'rank': 'king', 'value': 13},\n",
       " {'suit': 'Diamonds', 'rank': 'ACE', 'value': 1},\n",
       " {'suit': 'Diamonds', 'rank': '2', 'value': 2},\n",
       " {'suit': 'Diamonds', 'rank': '3', 'value': 3},\n",
       " {'suit': 'Diamonds', 'rank': '4', 'value': 4},\n",
       " {'suit': 'Diamonds', 'rank': '5', 'value': 5},\n",
       " {'suit': 'Diamonds', 'rank': '6', 'value': 6},\n",
       " {'suit': 'Diamonds', 'rank': '7', 'value': 7},\n",
       " {'suit': 'Diamonds', 'rank': '8', 'value': 8},\n",
       " {'suit': 'Diamonds', 'rank': '9', 'value': 9},\n",
       " {'suit': 'Diamonds', 'rank': '10', 'value': 10},\n",
       " {'suit': 'Diamonds', 'rank': 'Jack', 'value': 11},\n",
       " {'suit': 'Diamonds', 'rank': 'Queen', 'value': 12},\n",
       " {'suit': 'Diamonds', 'rank': 'king', 'value': 13},\n",
       " {'suit': 'Hears', 'rank': 'ACE', 'value': 1},\n",
       " {'suit': 'Hears', 'rank': '2', 'value': 2},\n",
       " {'suit': 'Hears', 'rank': '3', 'value': 3},\n",
       " {'suit': 'Hears', 'rank': '4', 'value': 4},\n",
       " {'suit': 'Hears', 'rank': '5', 'value': 5},\n",
       " {'suit': 'Hears', 'rank': '6', 'value': 6},\n",
       " {'suit': 'Hears', 'rank': '7', 'value': 7},\n",
       " {'suit': 'Hears', 'rank': '8', 'value': 8},\n",
       " {'suit': 'Hears', 'rank': '9', 'value': 9},\n",
       " {'suit': 'Hears', 'rank': '10', 'value': 10},\n",
       " {'suit': 'Hears', 'rank': 'Jack', 'value': 11},\n",
       " {'suit': 'Hears', 'rank': 'Queen', 'value': 12},\n",
       " {'suit': 'Hears', 'rank': 'king', 'value': 13},\n",
       " {'suit': 'Spades', 'rank': 'ACE', 'value': 1},\n",
       " {'suit': 'Spades', 'rank': '2', 'value': 2},\n",
       " {'suit': 'Spades', 'rank': '3', 'value': 3},\n",
       " {'suit': 'Spades', 'rank': '4', 'value': 4},\n",
       " {'suit': 'Spades', 'rank': '5', 'value': 5},\n",
       " {'suit': 'Spades', 'rank': '6', 'value': 6},\n",
       " {'suit': 'Spades', 'rank': '7', 'value': 7},\n",
       " {'suit': 'Spades', 'rank': '8', 'value': 8},\n",
       " {'suit': 'Spades', 'rank': '9', 'value': 9},\n",
       " {'suit': 'Spades', 'rank': '10', 'value': 10},\n",
       " {'suit': 'Spades', 'rank': 'Jack', 'value': 11},\n",
       " {'suit': 'Spades', 'rank': 'Queen', 'value': 12},\n",
       " {'suit': 'Spades', 'rank': 'king', 'value': 13}]"
      ]
     },
     "execution_count": 18,
     "metadata": {},
     "output_type": "execute_result"
    }
   ],
   "source": [
    "deckList"
   ]
  },
  {
   "cell_type": "code",
   "execution_count": 19,
   "id": "d4150de5",
   "metadata": {},
   "outputs": [
    {
     "data": {
      "text/plain": [
       "52"
      ]
     },
     "execution_count": 19,
     "metadata": {},
     "output_type": "execute_result"
    }
   ],
   "source": [
    "len(deckList)"
   ]
  },
  {
   "cell_type": "code",
   "execution_count": 20,
   "id": "7cf51dea",
   "metadata": {},
   "outputs": [],
   "source": [
    "import random\n",
    "\n",
    "def shuffleCards(deck):\n",
    "    random.shuffle(deck)\n",
    "    return deck"
   ]
  },
  {
   "cell_type": "code",
   "execution_count": 21,
   "id": "ef87436e",
   "metadata": {},
   "outputs": [],
   "source": [
    "deckList = shuffleCards(deckList)"
   ]
  },
  {
   "cell_type": "code",
   "execution_count": 22,
   "id": "90fa2e65",
   "metadata": {},
   "outputs": [
    {
     "data": {
      "text/plain": [
       "[{'suit': 'Hears', 'rank': '8', 'value': 8},\n",
       " {'suit': 'Spades', 'rank': 'Jack', 'value': 11},\n",
       " {'suit': 'Spades', 'rank': '6', 'value': 6},\n",
       " {'suit': 'Diamonds', 'rank': '9', 'value': 9},\n",
       " {'suit': 'Clubs', 'rank': 'Jack', 'value': 11},\n",
       " {'suit': 'Clubs', 'rank': '9', 'value': 9},\n",
       " {'suit': 'Hears', 'rank': '5', 'value': 5},\n",
       " {'suit': 'Clubs', 'rank': '10', 'value': 10},\n",
       " {'suit': 'Diamonds', 'rank': 'king', 'value': 13},\n",
       " {'suit': 'Diamonds', 'rank': '7', 'value': 7},\n",
       " {'suit': 'Diamonds', 'rank': '2', 'value': 2},\n",
       " {'suit': 'Hears', 'rank': '4', 'value': 4},\n",
       " {'suit': 'Hears', 'rank': 'ACE', 'value': 1},\n",
       " {'suit': 'Hears', 'rank': 'Jack', 'value': 11},\n",
       " {'suit': 'Diamonds', 'rank': '5', 'value': 5},\n",
       " {'suit': 'Spades', 'rank': 'ACE', 'value': 1},\n",
       " {'suit': 'Hears', 'rank': '3', 'value': 3},\n",
       " {'suit': 'Diamonds', 'rank': 'ACE', 'value': 1},\n",
       " {'suit': 'Diamonds', 'rank': 'Jack', 'value': 11},\n",
       " {'suit': 'Hears', 'rank': 'king', 'value': 13},\n",
       " {'suit': 'Clubs', 'rank': '5', 'value': 5},\n",
       " {'suit': 'Clubs', 'rank': 'Queen', 'value': 12},\n",
       " {'suit': 'Hears', 'rank': '6', 'value': 6},\n",
       " {'suit': 'Spades', 'rank': 'king', 'value': 13},\n",
       " {'suit': 'Clubs', 'rank': '2', 'value': 2},\n",
       " {'suit': 'Hears', 'rank': '7', 'value': 7},\n",
       " {'suit': 'Clubs', 'rank': '8', 'value': 8},\n",
       " {'suit': 'Hears', 'rank': '10', 'value': 10},\n",
       " {'suit': 'Diamonds', 'rank': '10', 'value': 10},\n",
       " {'suit': 'Clubs', 'rank': '6', 'value': 6},\n",
       " {'suit': 'Spades', 'rank': '2', 'value': 2},\n",
       " {'suit': 'Spades', 'rank': '10', 'value': 10},\n",
       " {'suit': 'Spades', 'rank': 'Queen', 'value': 12},\n",
       " {'suit': 'Spades', 'rank': '5', 'value': 5},\n",
       " {'suit': 'Clubs', 'rank': '7', 'value': 7},\n",
       " {'suit': 'Clubs', 'rank': 'king', 'value': 13},\n",
       " {'suit': 'Diamonds', 'rank': '8', 'value': 8},\n",
       " {'suit': 'Diamonds', 'rank': 'Queen', 'value': 12},\n",
       " {'suit': 'Diamonds', 'rank': '4', 'value': 4},\n",
       " {'suit': 'Clubs', 'rank': 'ACE', 'value': 1},\n",
       " {'suit': 'Spades', 'rank': '8', 'value': 8},\n",
       " {'suit': 'Diamonds', 'rank': '6', 'value': 6},\n",
       " {'suit': 'Spades', 'rank': '3', 'value': 3},\n",
       " {'suit': 'Spades', 'rank': '4', 'value': 4},\n",
       " {'suit': 'Spades', 'rank': '9', 'value': 9},\n",
       " {'suit': 'Hears', 'rank': '9', 'value': 9},\n",
       " {'suit': 'Spades', 'rank': '7', 'value': 7},\n",
       " {'suit': 'Clubs', 'rank': '3', 'value': 3},\n",
       " {'suit': 'Diamonds', 'rank': '3', 'value': 3},\n",
       " {'suit': 'Hears', 'rank': 'Queen', 'value': 12},\n",
       " {'suit': 'Clubs', 'rank': '4', 'value': 4},\n",
       " {'suit': 'Hears', 'rank': '2', 'value': 2}]"
      ]
     },
     "execution_count": 22,
     "metadata": {},
     "output_type": "execute_result"
    }
   ],
   "source": [
    "deckList"
   ]
  },
  {
   "cell_type": "code",
   "execution_count": null,
   "id": "59174df1",
   "metadata": {},
   "outputs": [],
   "source": []
  },
  {
   "cell_type": "code",
   "execution_count": 23,
   "id": "ee6a7931",
   "metadata": {},
   "outputs": [],
   "source": [
    "def getCard(deck, num =None):\n",
    "    if num is None:\n",
    "        card = deck.pop()\n",
    "    else:\n",
    "        card = deck.pop(num)\n",
    "    \n",
    "    return card\n",
    "\n",
    "card = getCard(deckList)"
   ]
  },
  {
   "cell_type": "code",
   "execution_count": 24,
   "id": "7d1c8db8",
   "metadata": {},
   "outputs": [
    {
     "data": {
      "text/plain": [
       "50"
      ]
     },
     "execution_count": 24,
     "metadata": {},
     "output_type": "execute_result"
    }
   ],
   "source": [
    "card = getCard(deckList)\n",
    "card\n",
    "len(deckList)"
   ]
  },
  {
   "cell_type": "code",
   "execution_count": 96,
   "id": "095437ac",
   "metadata": {},
   "outputs": [],
   "source": [
    "def getCards(deck, numCards):\n",
    "    cardList = deck[-numCards:]\n",
    "    #cardList.reverse()\n",
    "    return cardList"
   ]
  },
  {
   "cell_type": "code",
   "execution_count": 97,
   "id": "077ae6da",
   "metadata": {},
   "outputs": [],
   "source": [
    "cardList = getCards(deckList, 8)"
   ]
  },
  {
   "cell_type": "code",
   "execution_count": 98,
   "id": "07720bf9",
   "metadata": {},
   "outputs": [],
   "source": [
    "def printCardList(cardList):\n",
    "    for i in range(len(cardList)):\n",
    "        print(f\"{i+1}, {cardList[i]['suit']} {cardList[i]['rank']}\")\n",
    "        "
   ]
  },
  {
   "cell_type": "code",
   "execution_count": 99,
   "id": "bf0efc5b",
   "metadata": {},
   "outputs": [
    {
     "name": "stdout",
     "output_type": "stream",
     "text": [
      "1, Spades Queen\n",
      "2, Hears 3\n",
      "3, Hears king\n",
      "4, Spades 3\n",
      "5, Hears Queen\n",
      "6, Clubs king\n",
      "7, Clubs Queen\n",
      "8, Spades ACE\n"
     ]
    }
   ],
   "source": [
    "printCardList(cardList)"
   ]
  },
  {
   "cell_type": "code",
   "execution_count": 100,
   "id": "04a014da",
   "metadata": {},
   "outputs": [],
   "source": [
    "def printCardList(cardList):\n",
    "    for i,card in enumerate(cardList):\n",
    "        print(f\"{i+1}, {card['suit']} {card['rank']}\")"
   ]
  },
  {
   "cell_type": "code",
   "execution_count": 101,
   "id": "2982abc1",
   "metadata": {},
   "outputs": [
    {
     "name": "stdout",
     "output_type": "stream",
     "text": [
      "1, Spades Queen\n",
      "2, Hears 3\n",
      "3, Hears king\n",
      "4, Spades 3\n",
      "5, Hears Queen\n",
      "6, Clubs king\n",
      "7, Clubs Queen\n",
      "8, Spades ACE\n"
     ]
    }
   ],
   "source": [
    "printCardList(cardList)"
   ]
  },
  {
   "cell_type": "markdown",
   "id": "c67494aa",
   "metadata": {},
   "source": [
    "## GAME 1"
   ]
  },
  {
   "cell_type": "code",
   "execution_count": 102,
   "id": "ea0b53c8",
   "metadata": {},
   "outputs": [],
   "source": [
    "import time\n",
    "def game1(score):\n",
    "    ## inroducing message\n",
    "    print(\">>> Higher or Lower 게임(1)을 시작합니다.\")\n",
    "    print(f\" >>>현재 점수는 {score}입니다.\")\n",
    "    ## creating cards\n",
    "    deck = createDeck()\n",
    "    \n",
    "    ##shuffling cards\n",
    "    deck = shuffleCards(deck)\n",
    "    time.sleep(2)          #섞을때 1초 기다리게하기\n",
    "    \n",
    "    ##getting cards\n",
    "    print(f\">>>{NCARDS}장의 카드를 가져옵니다.\")\n",
    "    myCardList = getCards(deck, NCARDS)\n",
    "    \n",
    "    ##showing first card\n",
    "    curCard = getCard(myCardList)\n",
    "    print(f\">>>첫번째 카드는 {curCard['suit']} {curCard['rank']}입니다.\")\n",
    "    \n",
    "    while (len(myCardList) > 0):  ##mtCardList != []도 가능\n",
    "        \n",
    "    \n",
    "    \n",
    "        ##guessing higher or lower -> input\n",
    "        choice = getChar(\">>> 다음 카드의 숫자가 더 클까요(h) 작을까요(l)?\",\"lhLH\")\n",
    "        \n",
    "        ##evaluating guess with the next card\n",
    "        chStr = \"lower\" if choice == \"l\" else \"higer\"\n",
    "        print(f\">>> 당신은 {chStr}을 선택했습니다.\")\n",
    "        \n",
    "        nextCard = getCard(myCardList)\n",
    "        \n",
    "        print(f\">>>다음 카드는 {nextCard['suit']} {nextCard['rank']}입니다.\")\n",
    "        \n",
    "        \n",
    "        ##score ipdate\n",
    "        if(choice == \"l\" and nextCard['value'] < nextCard['value']) or \\\n",
    "        (choice == \"h\" and nextCard['value'] > nextCard['value']):\n",
    "            print(\">>> 당신이 예측이 맞았습니다. 20점을 획득합니다.\")\n",
    "            score += 20\n",
    "        else:\n",
    "            print(\">>> 당신이 예측이 틀렸습니다. 15점을 잃습니다.\")\n",
    "            score -= 15\n",
    "        \n",
    "        \n",
    "        ##checking and condition\n",
    "        curCard = nextCard\n",
    "        print(f\">>>당신의 점수는 {score} 입니다.\")\n",
    "        \n",
    "        \n",
    "    print(f\">>>게임이 종료되니다. 당신의 최종 점수는 {score} 입니다.\")\n",
    "    \n",
    "    return score\n",
    "        "
   ]
  },
  {
   "cell_type": "code",
   "execution_count": 103,
   "id": "badfe350",
   "metadata": {},
   "outputs": [],
   "source": [
    "def getChar(msg, allowedChars):\n",
    "    while True:\n",
    "        inChars = input(msg)\n",
    "        choice = inChars[0]\n",
    "        if choice in allowedChars:\n",
    "            return choice.lower\n",
    "        else:\n",
    "            print(f\">>> [ERROR] 허용된 문자는 {msg}중 하나입니다\")"
   ]
  },
  {
   "cell_type": "code",
   "execution_count": 81,
   "id": "56c6c747",
   "metadata": {},
   "outputs": [
    {
     "name": "stdout",
     "output_type": "stream",
     "text": [
      "입력\n"
     ]
    },
    {
     "ename": "IndexError",
     "evalue": "string index out of range",
     "output_type": "error",
     "traceback": [
      "\u001b[1;31m---------------------------------------------------------------------------\u001b[0m",
      "\u001b[1;31mIndexError\u001b[0m                                Traceback (most recent call last)",
      "\u001b[1;32m~\\AppData\\Local\\Temp/ipykernel_14720/2807180319.py\u001b[0m in \u001b[0;36m<module>\u001b[1;34m\u001b[0m\n\u001b[1;32m----> 1\u001b[1;33m \u001b[0mgetChar\u001b[0m\u001b[1;33m(\u001b[0m\u001b[1;34m\"입력\"\u001b[0m\u001b[1;33m,\u001b[0m\u001b[1;34m\"lLhH\"\u001b[0m\u001b[1;33m)\u001b[0m\u001b[1;33m\u001b[0m\u001b[1;33m\u001b[0m\u001b[0m\n\u001b[0m",
      "\u001b[1;32m~\\AppData\\Local\\Temp/ipykernel_14720/1574181517.py\u001b[0m in \u001b[0;36mgetChar\u001b[1;34m(msg, allowedChars)\u001b[0m\n\u001b[0;32m      2\u001b[0m     \u001b[1;32mwhile\u001b[0m \u001b[1;32mTrue\u001b[0m\u001b[1;33m:\u001b[0m\u001b[1;33m\u001b[0m\u001b[1;33m\u001b[0m\u001b[0m\n\u001b[0;32m      3\u001b[0m         \u001b[0minChars\u001b[0m \u001b[1;33m=\u001b[0m \u001b[0minput\u001b[0m\u001b[1;33m(\u001b[0m\u001b[0mmsg\u001b[0m\u001b[1;33m)\u001b[0m\u001b[1;33m\u001b[0m\u001b[1;33m\u001b[0m\u001b[0m\n\u001b[1;32m----> 4\u001b[1;33m         \u001b[0mchoice\u001b[0m \u001b[1;33m=\u001b[0m \u001b[0minChars\u001b[0m\u001b[1;33m[\u001b[0m\u001b[1;36m0\u001b[0m\u001b[1;33m]\u001b[0m\u001b[1;33m\u001b[0m\u001b[1;33m\u001b[0m\u001b[0m\n\u001b[0m\u001b[0;32m      5\u001b[0m         \u001b[1;32mif\u001b[0m \u001b[0mchoice\u001b[0m \u001b[1;32min\u001b[0m \u001b[0mallowedChars\u001b[0m\u001b[1;33m:\u001b[0m\u001b[1;33m\u001b[0m\u001b[1;33m\u001b[0m\u001b[0m\n\u001b[0;32m      6\u001b[0m             \u001b[1;32mreturn\u001b[0m \u001b[0mchoice\u001b[0m\u001b[1;33m.\u001b[0m\u001b[0mlower\u001b[0m\u001b[1;33m\u001b[0m\u001b[1;33m\u001b[0m\u001b[0m\n",
      "\u001b[1;31mIndexError\u001b[0m: string index out of range"
     ]
    }
   ],
   "source": [
    "getChar(\"입력\",\"lLhH\")"
   ]
  },
  {
   "cell_type": "code",
   "execution_count": 82,
   "id": "3bbf1ee1",
   "metadata": {},
   "outputs": [
    {
     "name": "stdout",
     "output_type": "stream",
     "text": [
      ">>> Higher or Lower 게임(1)을 시작합니다.\n",
      " >>>현재 점수는 50입니다.\n",
      ">>>8장의 카드를 가져옵니다.\n",
      ">>>첫번째 카드는 Clubs 6입니다.\n",
      ">>> 다음 카드의 숫자가 더 클까요(h) 작을까요(l)?ㅣ\n",
      ">>> [ERROR] 허용된 문자는 >>> 다음 카드의 숫자가 더 클까요(h) 작을까요(l)?중 하나입니다\n",
      ">>> 다음 카드의 숫자가 더 클까요(h) 작을까요(l)?h\n",
      ">>> 당신은 higer을 선택했습니다.\n",
      ">>>다음 카드는 Hears Queen입니다.\n",
      ">>> 당신이 예측이 틀렸습니다. 15점을 잃습니다.\n",
      ">>>당신의 점수는 35 입니다.\n",
      ">>> 다음 카드의 숫자가 더 클까요(h) 작을까요(l)?l\n",
      ">>> 당신은 higer을 선택했습니다.\n",
      ">>>다음 카드는 Diamonds Jack입니다.\n",
      ">>> 당신이 예측이 틀렸습니다. 15점을 잃습니다.\n",
      ">>>당신의 점수는 20 입니다.\n",
      ">>> 다음 카드의 숫자가 더 클까요(h) 작을까요(l)?h\n",
      ">>> 당신은 higer을 선택했습니다.\n",
      ">>>다음 카드는 Hears ACE입니다.\n",
      ">>> 당신이 예측이 틀렸습니다. 15점을 잃습니다.\n",
      ">>>당신의 점수는 5 입니다.\n",
      ">>> 다음 카드의 숫자가 더 클까요(h) 작을까요(l)?h\n",
      ">>> 당신은 higer을 선택했습니다.\n",
      ">>>다음 카드는 Hears 3입니다.\n",
      ">>> 당신이 예측이 틀렸습니다. 15점을 잃습니다.\n",
      ">>>당신의 점수는 -10 입니다.\n",
      ">>> 다음 카드의 숫자가 더 클까요(h) 작을까요(l)?h\n",
      ">>> 당신은 higer을 선택했습니다.\n",
      ">>>다음 카드는 Hears 2입니다.\n",
      ">>> 당신이 예측이 틀렸습니다. 15점을 잃습니다.\n",
      ">>>당신의 점수는 -25 입니다.\n"
     ]
    },
    {
     "ename": "KeyboardInterrupt",
     "evalue": "Interrupted by user",
     "output_type": "error",
     "traceback": [
      "\u001b[1;31m---------------------------------------------------------------------------\u001b[0m",
      "\u001b[1;31mKeyboardInterrupt\u001b[0m                         Traceback (most recent call last)",
      "\u001b[1;32m~\\AppData\\Local\\Temp/ipykernel_14720/1948877700.py\u001b[0m in \u001b[0;36m<module>\u001b[1;34m\u001b[0m\n\u001b[1;32m----> 1\u001b[1;33m \u001b[0mgame1\u001b[0m\u001b[1;33m(\u001b[0m\u001b[0mINIT_SCORE\u001b[0m\u001b[1;33m)\u001b[0m\u001b[1;33m\u001b[0m\u001b[1;33m\u001b[0m\u001b[0m\n\u001b[0m",
      "\u001b[1;32m~\\AppData\\Local\\Temp/ipykernel_14720/2563759515.py\u001b[0m in \u001b[0;36mgame1\u001b[1;34m(score)\u001b[0m\n\u001b[0;32m     24\u001b[0m \u001b[1;33m\u001b[0m\u001b[0m\n\u001b[0;32m     25\u001b[0m         \u001b[1;31m##guessing higher or lower -> input\u001b[0m\u001b[1;33m\u001b[0m\u001b[1;33m\u001b[0m\u001b[0m\n\u001b[1;32m---> 26\u001b[1;33m         \u001b[0mchoice\u001b[0m \u001b[1;33m=\u001b[0m \u001b[0mgetChar\u001b[0m\u001b[1;33m(\u001b[0m\u001b[1;34m\">>> 다음 카드의 숫자가 더 클까요(h) 작을까요(l)?\"\u001b[0m\u001b[1;33m,\u001b[0m\u001b[1;34m\"lhLH\"\u001b[0m\u001b[1;33m)\u001b[0m\u001b[1;33m\u001b[0m\u001b[1;33m\u001b[0m\u001b[0m\n\u001b[0m\u001b[0;32m     27\u001b[0m \u001b[1;33m\u001b[0m\u001b[0m\n\u001b[0;32m     28\u001b[0m         \u001b[1;31m##evaluating guess with the next card\u001b[0m\u001b[1;33m\u001b[0m\u001b[1;33m\u001b[0m\u001b[0m\n",
      "\u001b[1;32m~\\AppData\\Local\\Temp/ipykernel_14720/1574181517.py\u001b[0m in \u001b[0;36mgetChar\u001b[1;34m(msg, allowedChars)\u001b[0m\n\u001b[0;32m      1\u001b[0m \u001b[1;32mdef\u001b[0m \u001b[0mgetChar\u001b[0m\u001b[1;33m(\u001b[0m\u001b[0mmsg\u001b[0m\u001b[1;33m,\u001b[0m \u001b[0mallowedChars\u001b[0m\u001b[1;33m)\u001b[0m\u001b[1;33m:\u001b[0m\u001b[1;33m\u001b[0m\u001b[1;33m\u001b[0m\u001b[0m\n\u001b[0;32m      2\u001b[0m     \u001b[1;32mwhile\u001b[0m \u001b[1;32mTrue\u001b[0m\u001b[1;33m:\u001b[0m\u001b[1;33m\u001b[0m\u001b[1;33m\u001b[0m\u001b[0m\n\u001b[1;32m----> 3\u001b[1;33m         \u001b[0minChars\u001b[0m \u001b[1;33m=\u001b[0m \u001b[0minput\u001b[0m\u001b[1;33m(\u001b[0m\u001b[0mmsg\u001b[0m\u001b[1;33m)\u001b[0m\u001b[1;33m\u001b[0m\u001b[1;33m\u001b[0m\u001b[0m\n\u001b[0m\u001b[0;32m      4\u001b[0m         \u001b[0mchoice\u001b[0m \u001b[1;33m=\u001b[0m \u001b[0minChars\u001b[0m\u001b[1;33m[\u001b[0m\u001b[1;36m0\u001b[0m\u001b[1;33m]\u001b[0m\u001b[1;33m\u001b[0m\u001b[1;33m\u001b[0m\u001b[0m\n\u001b[0;32m      5\u001b[0m         \u001b[1;32mif\u001b[0m \u001b[0mchoice\u001b[0m \u001b[1;32min\u001b[0m \u001b[0mallowedChars\u001b[0m\u001b[1;33m:\u001b[0m\u001b[1;33m\u001b[0m\u001b[1;33m\u001b[0m\u001b[0m\n",
      "\u001b[1;32mC:\\anaconda3\\lib\\site-packages\\ipykernel\\kernelbase.py\u001b[0m in \u001b[0;36mraw_input\u001b[1;34m(self, prompt)\u001b[0m\n\u001b[0;32m   1004\u001b[0m                 \u001b[1;34m\"raw_input was called, but this frontend does not support input requests.\"\u001b[0m\u001b[1;33m\u001b[0m\u001b[1;33m\u001b[0m\u001b[0m\n\u001b[0;32m   1005\u001b[0m             )\n\u001b[1;32m-> 1006\u001b[1;33m         return self._input_request(\n\u001b[0m\u001b[0;32m   1007\u001b[0m             \u001b[0mstr\u001b[0m\u001b[1;33m(\u001b[0m\u001b[0mprompt\u001b[0m\u001b[1;33m)\u001b[0m\u001b[1;33m,\u001b[0m\u001b[1;33m\u001b[0m\u001b[1;33m\u001b[0m\u001b[0m\n\u001b[0;32m   1008\u001b[0m             \u001b[0mself\u001b[0m\u001b[1;33m.\u001b[0m\u001b[0m_parent_ident\u001b[0m\u001b[1;33m[\u001b[0m\u001b[1;34m\"shell\"\u001b[0m\u001b[1;33m]\u001b[0m\u001b[1;33m,\u001b[0m\u001b[1;33m\u001b[0m\u001b[1;33m\u001b[0m\u001b[0m\n",
      "\u001b[1;32mC:\\anaconda3\\lib\\site-packages\\ipykernel\\kernelbase.py\u001b[0m in \u001b[0;36m_input_request\u001b[1;34m(self, prompt, ident, parent, password)\u001b[0m\n\u001b[0;32m   1049\u001b[0m             \u001b[1;32mexcept\u001b[0m \u001b[0mKeyboardInterrupt\u001b[0m\u001b[1;33m:\u001b[0m\u001b[1;33m\u001b[0m\u001b[1;33m\u001b[0m\u001b[0m\n\u001b[0;32m   1050\u001b[0m                 \u001b[1;31m# re-raise KeyboardInterrupt, to truncate traceback\u001b[0m\u001b[1;33m\u001b[0m\u001b[1;33m\u001b[0m\u001b[0m\n\u001b[1;32m-> 1051\u001b[1;33m                 \u001b[1;32mraise\u001b[0m \u001b[0mKeyboardInterrupt\u001b[0m\u001b[1;33m(\u001b[0m\u001b[1;34m\"Interrupted by user\"\u001b[0m\u001b[1;33m)\u001b[0m \u001b[1;32mfrom\u001b[0m \u001b[1;32mNone\u001b[0m\u001b[1;33m\u001b[0m\u001b[1;33m\u001b[0m\u001b[0m\n\u001b[0m\u001b[0;32m   1052\u001b[0m             \u001b[1;32mexcept\u001b[0m \u001b[0mException\u001b[0m\u001b[1;33m:\u001b[0m\u001b[1;33m\u001b[0m\u001b[1;33m\u001b[0m\u001b[0m\n\u001b[0;32m   1053\u001b[0m                 \u001b[0mself\u001b[0m\u001b[1;33m.\u001b[0m\u001b[0mlog\u001b[0m\u001b[1;33m.\u001b[0m\u001b[0mwarning\u001b[0m\u001b[1;33m(\u001b[0m\u001b[1;34m\"Invalid Message:\"\u001b[0m\u001b[1;33m,\u001b[0m \u001b[0mexc_info\u001b[0m\u001b[1;33m=\u001b[0m\u001b[1;32mTrue\u001b[0m\u001b[1;33m)\u001b[0m\u001b[1;33m\u001b[0m\u001b[1;33m\u001b[0m\u001b[0m\n",
      "\u001b[1;31mKeyboardInterrupt\u001b[0m: Interrupted by user"
     ]
    }
   ],
   "source": [
    "game1(INIT_SCORE)"
   ]
  },
  {
   "cell_type": "code",
   "execution_count": 107,
   "id": "f8469a51",
   "metadata": {},
   "outputs": [],
   "source": [
    "import time\n",
    "def game2(score):\n",
    "    ## inroducing message\n",
    "    print(\">>> Higher or Lower 게임(2)을 시작합니다.\")\n",
    "    print(f\" >>>현재 점수는 {score}입니다.\")\n",
    "    ## creating cards\n",
    "    deck = createDeck()\n",
    "    \n",
    "    ##shuffling cards\n",
    "    print(\"카드를 뒤섞습니다\")\n",
    "    deck = shuffleCards(deck)\n",
    "    time.sleep(2)          #섞을때 1초 기다리게하기\n",
    "    \n",
    "    ##getting cards\n",
    "    print(f\">>>당신에게 {NCARDS}장의 카드를 나누어줍니다.\")\n",
    "    myCardList = getCards(deck, NCARDS)\n",
    "    \n",
    "    print(f\">>>딜러가 {NCARDS}장의 카드를 가져갑니다.\")\n",
    "    dealerCardList = getCards(deck, NCARDS)\n",
    "    \n",
    "    \n",
    "    \n",
    "    \n",
    "    while (len(myCardList) > 0):  ##mtCardList != []도 가능\n",
    "        \n",
    "        ###showing your cards\n",
    "        print(f\">>> 당신의 카드는 다음과 같습니다.\")\n",
    "        printCardList(myCardList)\n",
    "    \n",
    "        ##guessing higher or lower -> input\n",
    "        choice = int_get(\">>> 선택할 카드 번호를 입력하세요.\", minval = 1, maxval =len(myCardList), default=None)\n",
    "        curCard = getCard(myCardList, choice-1)\n",
    "        \n",
    "        ##evaluating guess with the next card\"\n",
    "        print(f\">>> 당신이 선택한 카드는 {curCard['suit']} {curCard['rank']} 입니다.\")\n",
    "        \n",
    "        dealerCard = getCard(dealerCardList)\n",
    "        print(f\">>> 딜러의 카드는는 {dealerCard['suit']} {dealerCard['rank']}입니다.\")\n",
    "        \n",
    "        \n",
    "        ##score ipdate\n",
    "        if(curCard['value'] > dealerCard['value']):\n",
    "            print(\">>> 당신이 이겼습니다. 20점을 획득합니다.\")\n",
    "            score += 20\n",
    "        elif(curCard['value'] < dealerCard['value']):\n",
    "            print(\">>> 당신이 졌습니다. 20점을 잃습니다.\")\n",
    "            score -= 20\n",
    "        else:\n",
    "            print(\">>> 비겼습니다. 점수 변동은 없습니다.\")\n",
    "        \n",
    "        \n",
    "        ##checking and condition\n",
    "        print(f\">>>당신의 점수는 {score} 입니다.\")\n",
    "        \n",
    "        \n",
    "    print(f\">>>게임이 종료되니다. 당신의 최종 점수는 {score} 입니다.\")\n",
    "    \n",
    "    return score"
   ]
  },
  {
   "cell_type": "code",
   "execution_count": 108,
   "id": "df7ff021",
   "metadata": {},
   "outputs": [],
   "source": [
    "def int_get(input_str, minval=1, maxval=None, default = None): \n",
    "    \n",
    "    while True:\n",
    "        if default is not None:\n",
    "            val = input(input_str+'['+str(default)+'] ')\n",
    "        else:\n",
    "            val = input(input_str)\n",
    "            \n",
    "        if val == '' and default is not None:\n",
    "            return default\n",
    "        elif set(val) <= set(\"-0123456789\"):\n",
    "            val = int(val)\n",
    "            if maxval is not None:\n",
    "                if minval <= val <=maxval:\n",
    "                    return val\n",
    "                else:\n",
    "                    print(\">>> [ERROR] 입력값이 범위를 벗어났습니다!\")\n",
    "            else:\n",
    "                if minval <= val:\n",
    "                    return val\n",
    "                else:\n",
    "                    print(\">>> [ERROR] 입력값이 범위를 벗어났습니다!\")\n",
    "        else:\n",
    "            print(\">>> [ERROR] 정수를 입력해주세요!\")"
   ]
  },
  {
   "cell_type": "markdown",
   "id": "5cca8b6f",
   "metadata": {},
   "source": [
    "game2(INIT_SCORE)"
   ]
  },
  {
   "cell_type": "code",
   "execution_count": null,
   "id": "bb2401c3",
   "metadata": {},
   "outputs": [],
   "source": []
  }
 ],
 "metadata": {
  "kernelspec": {
   "display_name": "Python 3 (ipykernel)",
   "language": "python",
   "name": "python3"
  },
  "language_info": {
   "codemirror_mode": {
    "name": "ipython",
    "version": 3
   },
   "file_extension": ".py",
   "mimetype": "text/x-python",
   "name": "python",
   "nbconvert_exporter": "python",
   "pygments_lexer": "ipython3",
   "version": "3.9.7"
  }
 },
 "nbformat": 4,
 "nbformat_minor": 5
}
