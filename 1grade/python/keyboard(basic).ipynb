{
 "cells": [
  {
   "cell_type": "code",
   "execution_count": 1,
   "id": "95c5dec0",
   "metadata": {},
   "outputs": [],
   "source": [
    "import keyboard\n",
    "import time"
   ]
  },
  {
   "cell_type": "code",
   "execution_count": 2,
   "id": "10ac2eaa",
   "metadata": {},
   "outputs": [
    {
     "name": "stdout",
     "output_type": "stream",
     "text": [
      "왼쪽 방향키 입력\n",
      "오른쪽 방향키 입력\n",
      "윗쪽 방향키 입력\n",
      "아래쪽 방향키 입력\n",
      "종료 키 입력\n"
     ]
    }
   ],
   "source": [
    "while True:\n",
    "    if keyboard.is_pressed('down'):\n",
    "        print('아래쪽 방향키 입력')\n",
    "        time.sleep(0.2)\n",
    "    if keyboard.is_pressed('up'):\n",
    "        print('윗쪽 방향키 입력')\n",
    "        time.sleep(0.2)\n",
    "    if keyboard.is_pressed('left'):\n",
    "        print('왼쪽 방향키 입력')\n",
    "        time.sleep(0.2)\n",
    "    if keyboard.is_pressed('right'):\n",
    "        print('오른쪽 방향키 입력')\n",
    "        time.sleep(0.2)\n",
    "    if keyboard.is_pressed('q'):\n",
    "        print('종료 키 입력')\n",
    "        time.sleep(0.2)\n",
    "        break"
   ]
  },
  {
   "cell_type": "code",
   "execution_count": 3,
   "id": "33a455dc",
   "metadata": {},
   "outputs": [],
   "source": [
    "import beepy "
   ]
  },
  {
   "cell_type": "code",
   "execution_count": 11,
   "id": "52278a4e",
   "metadata": {},
   "outputs": [],
   "source": [
    "beepy.beep(sound='ping')"
   ]
  },
  {
   "cell_type": "code",
   "execution_count": null,
   "id": "1f26646e",
   "metadata": {},
   "outputs": [],
   "source": []
  }
 ],
 "metadata": {
  "kernelspec": {
   "display_name": "Python 3 (ipykernel)",
   "language": "python",
   "name": "python3"
  },
  "language_info": {
   "codemirror_mode": {
    "name": "ipython",
    "version": 3
   },
   "file_extension": ".py",
   "mimetype": "text/x-python",
   "name": "python",
   "nbconvert_exporter": "python",
   "pygments_lexer": "ipython3",
   "version": "3.9.13"
  }
 },
 "nbformat": 4,
 "nbformat_minor": 5
}
