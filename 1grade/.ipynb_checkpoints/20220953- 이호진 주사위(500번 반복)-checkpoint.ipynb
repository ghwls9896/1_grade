{
 "cells": [
  {
   "cell_type": "markdown",
   "id": "fb33e887",
   "metadata": {},
   "source": [
    "## 1. 주사위 게임"
   ]
  },
  {
   "cell_type": "code",
   "execution_count": null,
   "id": "0f1277ba",
   "metadata": {},
   "outputs": [],
   "source": [
    "import matplotlib.pyplot as pit\n",
    "import random\n",
    "%matplotlib inline"
   ]
  },
  {
   "cell_type": "code",
   "execution_count": null,
   "id": "9fb5f294",
   "metadata": {},
   "outputs": [],
   "source": [
    "import platform\n",
    "platform.system()"
   ]
  },
  {
   "cell_type": "code",
   "execution_count": null,
   "id": "fffe7683",
   "metadata": {},
   "outputs": [],
   "source": [
    "if platform.system() == 'Windows':\n",
    "    pit.rc('font', family = 'Malgun Gothic')"
   ]
  },
  {
   "cell_type": "code",
   "execution_count": null,
   "id": "d3e9d26d",
   "metadata": {},
   "outputs": [],
   "source": [
    "if platform.system() == 'Darwin':\n",
    "    pit.rc('font', family = 'AppleGothic')"
   ]
  },
  {
   "cell_type": "code",
   "execution_count": null,
   "id": "4664fcff",
   "metadata": {},
   "outputs": [],
   "source": [
    "def roil_dice():\n",
    "    \n",
    "    die_1 = random.randint(1,6)\n",
    "    die_2 = random.randint(1,6)\n",
    "    \n",
    "    if (die_1 == die_2):\n",
    "        same_num = True\n",
    "    else:\n",
    "        same_num = False\n",
    "        \n",
    "    return same_num"
   ]
  },
  {
   "cell_type": "code",
   "execution_count": null,
   "id": "97134ab5",
   "metadata": {},
   "outputs": [],
   "source": [
    "num_simul = 10000   # 500번 하는 것을 만번 반복\n",
    "max_num_roils = 500  #게임 500번\n",
    "init_balance = 300000\n",
    "win_probability = []\n",
    "end_balance     = []"
   ]
  },
  {
   "cell_type": "code",
   "execution_count": null,
   "id": "1ad53e72",
   "metadata": {},
   "outputs": [],
   "source": [
    "fig = pit.figure()\n",
    "pit.title('monte carlo 주사위 게임')\n",
    "pit.xlabel('게임 횟수')\n",
    "pit.ylabel('잔액(원)')\n",
    "pit.xlim([0,max_num_roils])"
   ]
  },
  {
   "cell_type": "markdown",
   "id": "c33c17fc",
   "metadata": {},
   "source": [
    "## 시뮬레이션"
   ]
  },
  {
   "cell_type": "code",
   "execution_count": null,
   "id": "53255809",
   "metadata": {},
   "outputs": [],
   "source": [
    "fig = pit.figure()\n",
    "pit.title('monte carlo 500번 반복')\n",
    "pit.xlabel('게임 횟수')\n",
    "pit.ylabel('잔액(원)')\n",
    "pit.xlim([0,max_num_roils])\n",
    "for i in range(num_simul):\n",
    "    balance = [init_balance]\n",
    "    num_roils = [0]\n",
    "    num_wins = 0\n",
    "    \n",
    "    for j in range(max_num_roils):\n",
    "        same = roil_dice()\n",
    "        \n",
    "        if same:\n",
    "            balance.append(balance[-1]+4000)\n",
    "            num_wins += 1\n",
    "            \n",
    "        else:\n",
    "            balance.append(balance[-1]-1000)\n",
    "            \n",
    "            \n",
    "        num_roils.append(j+1)\n",
    "    win_probability.append(num_wins/max_num_roils)\n",
    "    end_balance.append(balance[-1])\n",
    "    \n",
    "    pit.plot(num_roils, balance)\n",
    "    \n",
    "pit.show()"
   ]
  },
  {
   "cell_type": "code",
   "execution_count": null,
   "id": "5dfbf0d2",
   "metadata": {},
   "outputs": [],
   "source": []
  }
 ],
 "metadata": {
  "kernelspec": {
   "display_name": "Python 3 (ipykernel)",
   "language": "python",
   "name": "python3"
  },
  "language_info": {
   "codemirror_mode": {
    "name": "ipython",
    "version": 3
   },
   "file_extension": ".py",
   "mimetype": "text/x-python",
   "name": "python",
   "nbconvert_exporter": "python",
   "pygments_lexer": "ipython3",
   "version": "3.9.13"
  }
 },
 "nbformat": 4,
 "nbformat_minor": 5
}
