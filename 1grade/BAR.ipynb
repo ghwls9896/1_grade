{
 "cells": [
  {
   "cell_type": "markdown",
   "id": "7aecfc33",
   "metadata": {},
   "source": [
    "### 1. 패키지, 전역변수"
   ]
  },
  {
   "cell_type": "code",
   "execution_count": 1,
   "id": "93b54d89",
   "metadata": {},
   "outputs": [],
   "source": [
    "import time"
   ]
  },
  {
   "cell_type": "code",
   "execution_count": 1,
   "id": "5373889c",
   "metadata": {},
   "outputs": [],
   "source": [
    "BAR = chr(9608)"
   ]
  },
  {
   "cell_type": "code",
   "execution_count": 2,
   "id": "6bf75184",
   "metadata": {},
   "outputs": [
    {
     "name": "stdout",
     "output_type": "stream",
     "text": [
      "█\n"
     ]
    }
   ],
   "source": [
    "print(BAR)"
   ]
  },
  {
   "cell_type": "markdown",
   "id": "7afee614",
   "metadata": {},
   "source": [
    "### 2. 함수 설계"
   ]
  },
  {
   "cell_type": "code",
   "execution_count": 3,
   "id": "41dfe2c4",
   "metadata": {},
   "outputs": [],
   "source": [
    "def get_progress_bar(progress, total, bar_width=40):\n",
    "    pass\n",
    "    return progress_bar"
   ]
  },
  {
   "cell_type": "code",
   "execution_count": 4,
   "id": "787d118b",
   "metadata": {},
   "outputs": [],
   "source": [
    "def get_progress_bar(progress, total, bar_width=40):\n",
    "    progress_bar = ''\n",
    "    progress_bar += '['\n",
    "\n",
    "    if progress > total:\n",
    "        progress = total\n",
    "    elif progress < 0:\n",
    "        progress =  0\n",
    "    \n",
    "    number_of_bars = int(progress / total * bar_width)\n",
    "    \n",
    "    progress_bar += BAR * number_of_bars\n",
    "    progress_bar += ' ' * (bar_width - number_of_bars)\n",
    "    progress_bar += ']'\n",
    "    \n",
    "    percentage = round(progress / total * 100, 1)\n",
    "    progress_bar += ' ' + str(percentage) +'%'\n",
    "    \n",
    "    progress_bar += ' ' + str(progress) + '/' + str(total)\n",
    "    \n",
    "    return progress_bar"
   ]
  },
  {
   "cell_type": "code",
   "execution_count": 5,
   "id": "81e6f39c",
   "metadata": {},
   "outputs": [
    {
     "data": {
      "text/plain": [
       "'[████████                                ] 20.0% 20/100'"
      ]
     },
     "execution_count": 5,
     "metadata": {},
     "output_type": "execute_result"
    }
   ],
   "source": [
    "get_progress_bar(20, 100, bar_width=40)"
   ]
  },
  {
   "cell_type": "markdown",
   "id": "df095491",
   "metadata": {},
   "source": [
    "### 3. 메인함수 설계"
   ]
  },
  {
   "cell_type": "code",
   "execution_count": 6,
   "id": "b1251cd4",
   "metadata": {},
   "outputs": [
    {
     "ename": "ModuleNotFoundError",
     "evalue": "No module named 'util'",
     "output_type": "error",
     "traceback": [
      "\u001b[1;31m---------------------------------------------------------------------------\u001b[0m",
      "\u001b[1;31mModuleNotFoundError\u001b[0m                       Traceback (most recent call last)",
      "\u001b[1;32m~\\AppData\\Local\\Temp\\ipykernel_16040\\3499328795.py\u001b[0m in \u001b[0;36m<module>\u001b[1;34m\u001b[0m\n\u001b[1;32m----> 1\u001b[1;33m \u001b[1;32mfrom\u001b[0m \u001b[0mutil\u001b[0m \u001b[1;32mimport\u001b[0m \u001b[0mutil\u001b[0m\u001b[1;33m\u001b[0m\u001b[1;33m\u001b[0m\u001b[0m\n\u001b[0m\u001b[0;32m      2\u001b[0m \u001b[1;32mimport\u001b[0m \u001b[0mrandom\u001b[0m\u001b[1;33m\u001b[0m\u001b[1;33m\u001b[0m\u001b[0m\n\u001b[0;32m      3\u001b[0m \u001b[1;33m\u001b[0m\u001b[0m\n\u001b[0;32m      4\u001b[0m \u001b[1;32mdef\u001b[0m \u001b[0mmain\u001b[0m\u001b[1;33m(\u001b[0m\u001b[1;33m)\u001b[0m\u001b[1;33m:\u001b[0m\u001b[1;33m\u001b[0m\u001b[1;33m\u001b[0m\u001b[0m\n\u001b[0;32m      5\u001b[0m     \u001b[0mutil\u001b[0m\u001b[1;33m.\u001b[0m\u001b[0mprint_header\u001b[0m\u001b[1;33m(\u001b[0m\u001b[1;34m'Progress Bar'\u001b[0m\u001b[1;33m,\u001b[0m \u001b[1;34m'2022.11.23'\u001b[0m\u001b[1;33m,\u001b[0m \u001b[1;34m'(c) AI Sweigart'\u001b[0m\u001b[1;33m)\u001b[0m\u001b[1;33m\u001b[0m\u001b[1;33m\u001b[0m\u001b[0m\n",
      "\u001b[1;31mModuleNotFoundError\u001b[0m: No module named 'util'"
     ]
    }
   ],
   "source": [
    "from util import util\n",
    "import random\n",
    "\n",
    "def main():\n",
    "    util.print_header('Progress Bar', '2022.11.23', '(c) AI Sweigart')\n",
    "    \n",
    "    bytes_downloaded = 0\n",
    "    download_size = 4096\n",
    "    \n",
    "    while bytes_downloaded < download_size:\n",
    "        bytes_downloaded += random.randint(0, 100)\n",
    "        if bytes_downloaded > download_size:\n",
    "            bytes_downloaded = download_size\n",
    "            \n",
    "        bar_str = get_progress_bar(bytes_downloaded, download_size)\n",
    "        print('\\r'+bar_str, end='', flush=True)\n",
    "        time.sleep(0.2)"
   ]
  },
  {
   "cell_type": "code",
   "execution_count": 7,
   "id": "d32885f4",
   "metadata": {},
   "outputs": [
    {
     "ename": "NameError",
     "evalue": "name 'main' is not defined",
     "output_type": "error",
     "traceback": [
      "\u001b[1;31m---------------------------------------------------------------------------\u001b[0m",
      "\u001b[1;31mNameError\u001b[0m                                 Traceback (most recent call last)",
      "\u001b[1;32m~\\AppData\\Local\\Temp\\ipykernel_16040\\451043146.py\u001b[0m in \u001b[0;36m<module>\u001b[1;34m\u001b[0m\n\u001b[1;32m----> 1\u001b[1;33m \u001b[0mmain\u001b[0m\u001b[1;33m(\u001b[0m\u001b[1;33m)\u001b[0m\u001b[1;33m\u001b[0m\u001b[1;33m\u001b[0m\u001b[0m\n\u001b[0m",
      "\u001b[1;31mNameError\u001b[0m: name 'main' is not defined"
     ]
    }
   ],
   "source": [
    "main()"
   ]
  },
  {
   "cell_type": "markdown",
   "id": "d091ec4f",
   "metadata": {},
   "source": [
    "### 4. tqdm 테스트"
   ]
  },
  {
   "cell_type": "code",
   "execution_count": 8,
   "id": "a718cc4a",
   "metadata": {},
   "outputs": [],
   "source": [
    "from tqdm import tqdm\n",
    "import time"
   ]
  },
  {
   "cell_type": "code",
   "execution_count": 9,
   "id": "297fb86e",
   "metadata": {},
   "outputs": [
    {
     "name": "stderr",
     "output_type": "stream",
     "text": [
      "100%|████████████████████████████████████████████████████████████████████████████████| 100/100 [00:20<00:00,  4.82it/s]\n"
     ]
    }
   ],
   "source": [
    "for i in tqdm(range(100)):\n",
    "    time.sleep(0.2)"
   ]
  },
  {
   "cell_type": "markdown",
   "id": "760e011c",
   "metadata": {},
   "source": [
    "### 5. tqdm 버전"
   ]
  },
  {
   "cell_type": "code",
   "execution_count": 23,
   "id": "b245cc63",
   "metadata": {},
   "outputs": [],
   "source": [
    "import random\n",
    "\n",
    "class Download:\n",
    "    def __init__(self, total):\n",
    "        self.total = total\n",
    "        self.progress = 0\n",
    "        self.stop = False\n",
    "        \n",
    "    def __iter__(self):\n",
    "        return self\n",
    "        \n",
    "    def __next__(self):\n",
    "        self.progress += random.randint(0, 100)\n",
    "        if self.stop == True:\n",
    "            raise StopIteration\n",
    "        elif self.progress > self.total:\n",
    "            self.progress = self.total\n",
    "            self.stop = True\n",
    "        return self.progress"
   ]
  },
  {
   "cell_type": "code",
   "execution_count": 24,
   "id": "f4e429f5",
   "metadata": {},
   "outputs": [
    {
     "name": "stdout",
     "output_type": "stream",
     "text": [
      "0 94\n",
      "1 149\n",
      "2 170\n",
      "3 195\n",
      "4 266\n",
      "5 276\n",
      "6 317\n",
      "7 323\n",
      "8 408\n",
      "9 452\n",
      "10 487\n",
      "11 504\n",
      "12 596\n",
      "13 644\n",
      "14 705\n",
      "15 787\n",
      "16 832\n",
      "17 921\n",
      "18 957\n",
      "19 996\n",
      "20 1022\n",
      "21 1094\n",
      "22 1192\n",
      "23 1263\n",
      "24 1268\n",
      "25 1281\n",
      "26 1307\n",
      "27 1369\n",
      "28 1430\n",
      "29 1495\n",
      "30 1543\n",
      "31 1573\n",
      "32 1621\n",
      "33 1642\n",
      "34 1671\n",
      "35 1741\n",
      "36 1837\n",
      "37 1853\n",
      "38 1881\n",
      "39 1964\n",
      "40 1974\n",
      "41 2021\n",
      "42 2046\n",
      "43 2063\n",
      "44 2084\n",
      "45 2182\n",
      "46 2206\n",
      "47 2247\n",
      "48 2265\n",
      "49 2331\n",
      "50 2344\n",
      "51 2443\n",
      "52 2487\n",
      "53 2581\n",
      "54 2595\n",
      "55 2607\n",
      "56 2639\n",
      "57 2683\n",
      "58 2688\n",
      "59 2730\n",
      "60 2793\n",
      "61 2813\n",
      "62 2912\n",
      "63 2927\n",
      "64 2972\n",
      "65 3054\n",
      "66 3080\n",
      "67 3133\n",
      "68 3167\n",
      "69 3169\n",
      "70 3231\n",
      "71 3287\n",
      "72 3340\n",
      "73 3360\n",
      "74 3440\n",
      "75 3523\n",
      "76 3606\n",
      "77 3690\n",
      "78 3790\n",
      "79 3799\n",
      "80 3877\n",
      "81 3950\n",
      "82 3956\n",
      "83 4049\n",
      "84 4071\n",
      "85 4096\n"
     ]
    }
   ],
   "source": [
    "for i, down in enumerate(Download(4096)):\n",
    "    print(i, down)"
   ]
  },
  {
   "cell_type": "code",
   "execution_count": 27,
   "id": "ae0b977c",
   "metadata": {},
   "outputs": [],
   "source": [
    "def main():\n",
    "    util.print_header('Progress Bar', '2022.11.23', '(c) AI Sweigart')\n",
    "    \n",
    "    bytes_downloaded = 0\n",
    "    download_size = 4096\n",
    "    \n",
    "    for bytes_downloaded in Download(download_size):            \n",
    "        bar_str = get_progress_bar(bytes_downloaded, download_size)\n",
    "        print('\\r'+bar_str, end='', flush=True)\n",
    "        time.sleep(0.2)"
   ]
  },
  {
   "cell_type": "code",
   "execution_count": 28,
   "id": "8382045f",
   "metadata": {},
   "outputs": [
    {
     "name": "stdout",
     "output_type": "stream",
     "text": [
      "*******************\n",
      "*  Progress Bar   *\n",
      "*   2022.11.23    *\n",
      "* (c) AI Sweigart *\n",
      "*******************\n",
      "[████████████████████████████████████████] 100.0% 4096/4096"
     ]
    }
   ],
   "source": [
    "main()"
   ]
  },
  {
   "cell_type": "code",
   "execution_count": 31,
   "id": "cdddc4c6",
   "metadata": {},
   "outputs": [],
   "source": [
    "def main():\n",
    "    util.print_header('Progress Bar', '2022.11.23', '(c) AI Sweigart')\n",
    "    \n",
    "    bytes_downloaded = 0\n",
    "    download_size = 4096\n",
    "    \n",
    "    for i in tqdm(Download(download_size), total=4096):            \n",
    "        time.sleep(0.2)"
   ]
  },
  {
   "cell_type": "code",
   "execution_count": 32,
   "id": "69ce4c3c",
   "metadata": {},
   "outputs": [
    {
     "name": "stdout",
     "output_type": "stream",
     "text": [
      "*******************\n",
      "*  Progress Bar   *\n",
      "*   2022.11.23    *\n",
      "* (c) AI Sweigart *\n",
      "*******************\n"
     ]
    },
    {
     "name": "stderr",
     "output_type": "stream",
     "text": [
      "  2%|█▍                                                                           | 78/4096 [00:16<13:44,  4.87it/s]\n"
     ]
    }
   ],
   "source": [
    "main()"
   ]
  },
  {
   "cell_type": "code",
   "execution_count": 33,
   "id": "361dfe86",
   "metadata": {},
   "outputs": [],
   "source": [
    "class Download2:\n",
    "    def __init__(self, total, increment):\n",
    "        self.total = total\n",
    "        self.increment = increment\n",
    "        self.progress = 0\n",
    "        self.stop = False\n",
    "        \n",
    "    def __iter__(self):\n",
    "        return self\n",
    "        \n",
    "    def __next__(self):\n",
    "        self.progress += self.increment\n",
    "        if self.stop == True:\n",
    "            raise StopIteration\n",
    "        elif self.progress > self.total:\n",
    "            self.progress = self.total\n",
    "            self.stop = True\n",
    "        return self.progress"
   ]
  },
  {
   "cell_type": "code",
   "execution_count": 39,
   "id": "137006ed",
   "metadata": {},
   "outputs": [],
   "source": [
    "import math\n",
    "\n",
    "def main():\n",
    "    util.print_header('Progress Bar', '2022.11.23', '(c) AI Sweigart')\n",
    "    \n",
    "    bytes_downloaded = 0\n",
    "    download_size = 4096\n",
    "    increment = 100\n",
    "    \n",
    "    for i in tqdm(Download2(download_size, increment), total=math.ceil(download_size/increment)):            \n",
    "        time.sleep(0.2)"
   ]
  },
  {
   "cell_type": "code",
   "execution_count": 41,
   "id": "b915e375",
   "metadata": {},
   "outputs": [
    {
     "name": "stdout",
     "output_type": "stream",
     "text": [
      "*******************\n",
      "*  Progress Bar   *\n",
      "*   2022.11.23    *\n",
      "* (c) AI Sweigart *\n",
      "*******************\n"
     ]
    },
    {
     "name": "stderr",
     "output_type": "stream",
     "text": [
      "100%|███████████████████████████████████████████████████████████████████████████████| 41/41 [00:08<00:00,  4.88it/s]\n"
     ]
    }
   ],
   "source": [
    "main()"
   ]
  },
  {
   "cell_type": "code",
   "execution_count": null,
   "id": "0254c719",
   "metadata": {},
   "outputs": [],
   "source": []
  }
 ],
 "metadata": {
  "kernelspec": {
   "display_name": "Python 3 (ipykernel)",
   "language": "python",
   "name": "python3"
  },
  "language_info": {
   "codemirror_mode": {
    "name": "ipython",
    "version": 3
   },
   "file_extension": ".py",
   "mimetype": "text/x-python",
   "name": "python",
   "nbconvert_exporter": "python",
   "pygments_lexer": "ipython3",
   "version": "3.9.13"
  }
 },
 "nbformat": 4,
 "nbformat_minor": 5
}
